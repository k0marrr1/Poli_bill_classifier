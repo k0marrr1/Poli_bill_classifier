{
 "cells": [
  {
   "cell_type": "markdown",
   "metadata": {
    "toc": true
   },
   "source": [
    "<h1>Table of Contents<span class=\"tocSkip\"></span></h1>\n",
    "<div class=\"toc\"><ul class=\"toc-item\"><li><span><a href=\"#Imports\" data-toc-modified-id=\"Imports-1\"><span class=\"toc-item-num\">1&nbsp;&nbsp;</span>Imports</a></span></li><li><span><a href=\"#Data-Collection\" data-toc-modified-id=\"Data-Collection-2\"><span class=\"toc-item-num\">2&nbsp;&nbsp;</span>Data Collection</a></span></li><li><span><a href=\"#EDA\" data-toc-modified-id=\"EDA-3\"><span class=\"toc-item-num\">3&nbsp;&nbsp;</span>EDA</a></span><ul class=\"toc-item\"><li><span><a href=\"#Understanding-and-Plotting-Value\" data-toc-modified-id=\"Understanding-and-Plotting-Value-3.1\"><span class=\"toc-item-num\">3.1&nbsp;&nbsp;</span>Understanding and Plotting Value</a></span></li><li><span><a href=\"#WordCloud-with-Title-values\" data-toc-modified-id=\"WordCloud-with-Title-values-3.2\"><span class=\"toc-item-num\">3.2&nbsp;&nbsp;</span>WordCloud with Title values</a></span></li></ul></li><li><span><a href=\"#Data-Prep\" data-toc-modified-id=\"Data-Prep-4\"><span class=\"toc-item-num\">4&nbsp;&nbsp;</span>Data Prep</a></span></li><li><span><a href=\"#Modeling\" data-toc-modified-id=\"Modeling-5\"><span class=\"toc-item-num\">5&nbsp;&nbsp;</span>Modeling</a></span><ul class=\"toc-item\"><li><ul class=\"toc-item\"><li><span><a href=\"#Train-Test-Split\" data-toc-modified-id=\"Train-Test-Split-5.0.1\"><span class=\"toc-item-num\">5.0.1&nbsp;&nbsp;</span>Train Test Split</a></span></li><li><span><a href=\"#Smote\" data-toc-modified-id=\"Smote-5.0.2\"><span class=\"toc-item-num\">5.0.2&nbsp;&nbsp;</span>Smote</a></span></li></ul></li><li><span><a href=\"#Baseline-Model\" data-toc-modified-id=\"Baseline-Model-5.1\"><span class=\"toc-item-num\">5.1&nbsp;&nbsp;</span>Baseline Model</a></span></li><li><span><a href=\"#Basic-Logistic-Regression\" data-toc-modified-id=\"Basic-Logistic-Regression-5.2\"><span class=\"toc-item-num\">5.2&nbsp;&nbsp;</span>Basic Logistic Regression</a></span><ul class=\"toc-item\"><li><span><a href=\"#MinMax-Scaler\" data-toc-modified-id=\"MinMax-Scaler-5.2.1\"><span class=\"toc-item-num\">5.2.1&nbsp;&nbsp;</span>MinMax Scaler</a></span></li><li><span><a href=\"#StandardScaler\" data-toc-modified-id=\"StandardScaler-5.2.2\"><span class=\"toc-item-num\">5.2.2&nbsp;&nbsp;</span>StandardScaler</a></span></li></ul></li><li><span><a href=\"#KNeighbors-Classifier\" data-toc-modified-id=\"KNeighbors-Classifier-5.3\"><span class=\"toc-item-num\">5.3&nbsp;&nbsp;</span>KNeighbors Classifier</a></span><ul class=\"toc-item\"><li><span><a href=\"#MinMax-Scaler\" data-toc-modified-id=\"MinMax-Scaler-5.3.1\"><span class=\"toc-item-num\">5.3.1&nbsp;&nbsp;</span>MinMax Scaler</a></span></li><li><span><a href=\"#Standard-Scaler\" data-toc-modified-id=\"Standard-Scaler-5.3.2\"><span class=\"toc-item-num\">5.3.2&nbsp;&nbsp;</span>Standard Scaler</a></span></li></ul></li><li><span><a href=\"#Bagging\" data-toc-modified-id=\"Bagging-5.4\"><span class=\"toc-item-num\">5.4&nbsp;&nbsp;</span>Bagging</a></span><ul class=\"toc-item\"><li><span><a href=\"#Min-Man-Scaler\" data-toc-modified-id=\"Min-Man-Scaler-5.4.1\"><span class=\"toc-item-num\">5.4.1&nbsp;&nbsp;</span>Min Man Scaler</a></span></li><li><span><a href=\"#Standard-Scaler\" data-toc-modified-id=\"Standard-Scaler-5.4.2\"><span class=\"toc-item-num\">5.4.2&nbsp;&nbsp;</span>Standard Scaler</a></span></li></ul></li><li><span><a href=\"#XGBOOST\" data-toc-modified-id=\"XGBOOST-5.5\"><span class=\"toc-item-num\">5.5&nbsp;&nbsp;</span>XGBOOST</a></span><ul class=\"toc-item\"><li><span><a href=\"#MinMax-Scaler\" data-toc-modified-id=\"MinMax-Scaler-5.5.1\"><span class=\"toc-item-num\">5.5.1&nbsp;&nbsp;</span>MinMax Scaler</a></span></li><li><span><a href=\"#Standard\" data-toc-modified-id=\"Standard-5.5.2\"><span class=\"toc-item-num\">5.5.2&nbsp;&nbsp;</span>Standard</a></span></li></ul></li><li><span><a href=\"#Random-Forrest\" data-toc-modified-id=\"Random-Forrest-5.6\"><span class=\"toc-item-num\">5.6&nbsp;&nbsp;</span>Random Forrest</a></span><ul class=\"toc-item\"><li><span><a href=\"#MinMax-Scaler\" data-toc-modified-id=\"MinMax-Scaler-5.6.1\"><span class=\"toc-item-num\">5.6.1&nbsp;&nbsp;</span>MinMax Scaler</a></span></li><li><span><a href=\"#Standard-Scaler\" data-toc-modified-id=\"Standard-Scaler-5.6.2\"><span class=\"toc-item-num\">5.6.2&nbsp;&nbsp;</span>Standard Scaler</a></span></li></ul></li></ul></li></ul></div>"
   ]
  },
  {
   "cell_type": "markdown",
   "metadata": {},
   "source": [
    "# Imports"
   ]
  },
  {
   "cell_type": "code",
   "execution_count": 3,
   "metadata": {},
   "outputs": [
    {
     "name": "stderr",
     "output_type": "stream",
     "text": [
      "/opt/anaconda3/envs/learn-env/lib/python3.6/site-packages/sklearn/utils/deprecation.py:143: FutureWarning: The sklearn.neighbors.base module is  deprecated in version 0.22 and will be removed in version 0.24. The corresponding classes / functions should instead be imported from sklearn.neighbors. Anything that cannot be imported from sklearn.neighbors is now part of the private API.\n",
      "  warnings.warn(message, FutureWarning)\n",
      "/opt/anaconda3/envs/learn-env/lib/python3.6/site-packages/sklearn/utils/deprecation.py:143: FutureWarning: The sklearn.ensemble.bagging module is  deprecated in version 0.22 and will be removed in version 0.24. The corresponding classes / functions should instead be imported from sklearn.ensemble. Anything that cannot be imported from sklearn.ensemble is now part of the private API.\n",
      "  warnings.warn(message, FutureWarning)\n",
      "/opt/anaconda3/envs/learn-env/lib/python3.6/site-packages/sklearn/utils/deprecation.py:143: FutureWarning: The sklearn.ensemble.base module is  deprecated in version 0.22 and will be removed in version 0.24. The corresponding classes / functions should instead be imported from sklearn.ensemble. Anything that cannot be imported from sklearn.ensemble is now part of the private API.\n",
      "  warnings.warn(message, FutureWarning)\n",
      "/opt/anaconda3/envs/learn-env/lib/python3.6/site-packages/sklearn/utils/deprecation.py:143: FutureWarning: The sklearn.ensemble.forest module is  deprecated in version 0.22 and will be removed in version 0.24. The corresponding classes / functions should instead be imported from sklearn.ensemble. Anything that cannot be imported from sklearn.ensemble is now part of the private API.\n",
      "  warnings.warn(message, FutureWarning)\n",
      "Using TensorFlow backend.\n",
      "/opt/anaconda3/envs/learn-env/lib/python3.6/site-packages/sklearn/utils/deprecation.py:143: FutureWarning: The sklearn.utils.testing module is  deprecated in version 0.22 and will be removed in version 0.24. The corresponding classes / functions should instead be imported from sklearn.utils. Anything that cannot be imported from sklearn.utils is now part of the private API.\n",
      "  warnings.warn(message, FutureWarning)\n",
      "/opt/anaconda3/envs/learn-env/lib/python3.6/site-packages/sklearn/utils/deprecation.py:143: FutureWarning: The sklearn.metrics.classification module is  deprecated in version 0.22 and will be removed in version 0.24. The corresponding classes / functions should instead be imported from sklearn.metrics. Anything that cannot be imported from sklearn.metrics is now part of the private API.\n",
      "  warnings.warn(message, FutureWarning)\n"
     ]
    }
   ],
   "source": [
    "#DataFrame\n",
    "import pandas as pd\n",
    "pd.set_option('display.max_columns', None)\n",
    "\n",
    "# Matplot\n",
    "import matplotlib.pyplot as plt\n",
    "%matplotlib inline\n",
    "\n",
    "#Utility\n",
    "from collections import Counter\n",
    "import re\n",
    "import datetime\n",
    "import time\n",
    "\n",
    "# WordCloud\n",
    "from wordcloud import WordCloud, STOPWORDS\n",
    "\n",
    "#Imblearn\n",
    "from imblearn.over_sampling import SMOTE\n",
    "\n",
    "#NLTK\n",
    "from nltk.corpus import stopwords\n",
    "from  nltk.stem import SnowballStemmer\n",
    "from nltk.probability import FreqDist\n",
    "from nltk.tokenize import word_tokenize\n",
    "\n",
    "#Keras\n",
    "from keras.preprocessing.text import Tokenizer\n",
    "from keras.preprocessing.sequence import pad_sequences\n",
    "\n",
    "# Scikit-learn\n",
    "from sklearn.model_selection import train_test_split\n",
    "from sklearn.linear_model import LogisticRegression\n",
    "from sklearn import preprocessing\n",
    "from sklearn.dummy import DummyClassifier\n",
    "from sklearn.metrics import accuracy_score, f1_score, recall_score, precision_score\n",
    "from sklearn.preprocessing import MinMaxScaler\n",
    "from sklearn.preprocessing import StandardScaler\n",
    "from sklearn.linear_model import Lasso, Ridge\n",
    "from sklearn.model_selection import GridSearchCV\n",
    "from sklearn.metrics import confusion_matrix\n",
    "from sklearn.metrics import plot_confusion_matrix\n",
    "from sklearn.neighbors import KNeighborsClassifier \n",
    "from sklearn.ensemble import BaggingClassifier \n",
    "from sklearn.ensemble import RandomForestClassifier \n",
    "\n",
    "# XGBOSST model\n",
    "import xgboost as xgb"
   ]
  },
  {
   "cell_type": "markdown",
   "metadata": {},
   "source": [
    "# Data Collection"
   ]
  },
  {
   "cell_type": "code",
   "execution_count": 43,
   "metadata": {},
   "outputs": [],
   "source": [
    "#Data obtained from Congressional Bills Project. \n",
    "#http://congressionalbills.org\n",
    "df = pd.read_csv('bills115-16partialAug92020.csv', encoding='latin1')"
   ]
  },
  {
   "cell_type": "code",
   "execution_count": 44,
   "metadata": {},
   "outputs": [
    {
     "data": {
      "text/html": [
       "<div>\n",
       "<style scoped>\n",
       "    .dataframe tbody tr th:only-of-type {\n",
       "        vertical-align: middle;\n",
       "    }\n",
       "\n",
       "    .dataframe tbody tr th {\n",
       "        vertical-align: top;\n",
       "    }\n",
       "\n",
       "    .dataframe thead th {\n",
       "        text-align: right;\n",
       "    }\n",
       "</style>\n",
       "<table border=\"1\" class=\"dataframe\">\n",
       "  <thead>\n",
       "    <tr style=\"text-align: right;\">\n",
       "      <th></th>\n",
       "      <th>BillID</th>\n",
       "      <th>BillNum</th>\n",
       "      <th>BillType</th>\n",
       "      <th>Chamber</th>\n",
       "      <th>congress</th>\n",
       "      <th>Cosponsr</th>\n",
       "      <th>IntrDate</th>\n",
       "      <th>Mult</th>\n",
       "      <th>MultNo</th>\n",
       "      <th>PLaw</th>\n",
       "      <th>Private</th>\n",
       "      <th>Title</th>\n",
       "      <th>desig</th>\n",
       "      <th>Veto</th>\n",
       "      <th>Class</th>\n",
       "      <th>ComC</th>\n",
       "      <th>ComR</th>\n",
       "      <th>CumHServ</th>\n",
       "      <th>CumSServ</th>\n",
       "      <th>Delegate</th>\n",
       "      <th>District</th>\n",
       "      <th>DW1</th>\n",
       "      <th>FrstConH</th>\n",
       "      <th>FrstConS</th>\n",
       "      <th>Gender</th>\n",
       "      <th>MemberID</th>\n",
       "      <th>Mref</th>\n",
       "      <th>NameFirst</th>\n",
       "      <th>NameFull</th>\n",
       "      <th>NameLast</th>\n",
       "      <th>Party</th>\n",
       "      <th>PooleID</th>\n",
       "      <th>Postal</th>\n",
       "      <th>State</th>\n",
       "      <th>URL</th>\n",
       "      <th>ChRef</th>\n",
       "      <th>RankRef</th>\n",
       "      <th>PassH</th>\n",
       "      <th>PassS</th>\n",
       "      <th>PLawDate</th>\n",
       "      <th>PLawNum</th>\n",
       "      <th>ImpBill</th>\n",
       "      <th>SubChRef</th>\n",
       "      <th>SubRankRef</th>\n",
       "      <th>Majority</th>\n",
       "      <th>ReportH</th>\n",
       "      <th>ReportS</th>\n",
       "      <th>Major</th>\n",
       "      <th>Minor</th>\n",
       "      <th>icpsr</th>\n",
       "      <th>nominate_dim1</th>\n",
       "      <th>state_abbrev</th>\n",
       "      <th>district_code</th>\n",
       "      <th>state_icpsr</th>\n",
       "      <th>bioguide_id</th>\n",
       "    </tr>\n",
       "  </thead>\n",
       "  <tbody>\n",
       "    <tr>\n",
       "      <th>0</th>\n",
       "      <td>115-hjres-95</td>\n",
       "      <td>95</td>\n",
       "      <td>hjres</td>\n",
       "      <td>False</td>\n",
       "      <td>115</td>\n",
       "      <td>9</td>\n",
       "      <td>4/6/2017</td>\n",
       "      <td>False</td>\n",
       "      <td>1</td>\n",
       "      <td>False</td>\n",
       "      <td>NaN</td>\n",
       "      <td>Expressing support for designation of Septembe...</td>\n",
       "      <td>1</td>\n",
       "      <td>False</td>\n",
       "      <td>NaN</td>\n",
       "      <td>NaN</td>\n",
       "      <td>NaN</td>\n",
       "      <td>NaN</td>\n",
       "      <td>NaN</td>\n",
       "      <td>0</td>\n",
       "      <td>NaN</td>\n",
       "      <td>NaN</td>\n",
       "      <td>NaN</td>\n",
       "      <td>NaN</td>\n",
       "      <td>1</td>\n",
       "      <td>29573-115-100</td>\n",
       "      <td>NaN</td>\n",
       "      <td>Sheila</td>\n",
       "      <td>Jackson Lee, Sheila</td>\n",
       "      <td>Jackson Lee</td>\n",
       "      <td>100.0</td>\n",
       "      <td>NaN</td>\n",
       "      <td>NaN</td>\n",
       "      <td>NaN</td>\n",
       "      <td>NaN</td>\n",
       "      <td>NaN</td>\n",
       "      <td>NaN</td>\n",
       "      <td>False</td>\n",
       "      <td>False</td>\n",
       "      <td>NaN</td>\n",
       "      <td>NaN</td>\n",
       "      <td>0</td>\n",
       "      <td>NaN</td>\n",
       "      <td>NaN</td>\n",
       "      <td>0.0</td>\n",
       "      <td>False</td>\n",
       "      <td>False</td>\n",
       "      <td>20</td>\n",
       "      <td>2008</td>\n",
       "      <td>29573.0</td>\n",
       "      <td>-0.460</td>\n",
       "      <td>TX</td>\n",
       "      <td>18.0</td>\n",
       "      <td>49.0</td>\n",
       "      <td>J000032</td>\n",
       "    </tr>\n",
       "    <tr>\n",
       "      <th>1</th>\n",
       "      <td>115-hjres-139</td>\n",
       "      <td>139</td>\n",
       "      <td>hjres</td>\n",
       "      <td>False</td>\n",
       "      <td>115</td>\n",
       "      <td>3</td>\n",
       "      <td>9/12/2018</td>\n",
       "      <td>False</td>\n",
       "      <td>1</td>\n",
       "      <td>False</td>\n",
       "      <td>NaN</td>\n",
       "      <td>Providing for the designation of a \"Freedom to...</td>\n",
       "      <td>1</td>\n",
       "      <td>False</td>\n",
       "      <td>NaN</td>\n",
       "      <td>NaN</td>\n",
       "      <td>NaN</td>\n",
       "      <td>NaN</td>\n",
       "      <td>NaN</td>\n",
       "      <td>0</td>\n",
       "      <td>NaN</td>\n",
       "      <td>NaN</td>\n",
       "      <td>NaN</td>\n",
       "      <td>NaN</td>\n",
       "      <td>1</td>\n",
       "      <td>15029-115-100</td>\n",
       "      <td>NaN</td>\n",
       "      <td>Marcy</td>\n",
       "      <td>Kaptur, Marcy</td>\n",
       "      <td>Kaptur</td>\n",
       "      <td>100.0</td>\n",
       "      <td>NaN</td>\n",
       "      <td>NaN</td>\n",
       "      <td>NaN</td>\n",
       "      <td>NaN</td>\n",
       "      <td>NaN</td>\n",
       "      <td>NaN</td>\n",
       "      <td>False</td>\n",
       "      <td>False</td>\n",
       "      <td>NaN</td>\n",
       "      <td>NaN</td>\n",
       "      <td>0</td>\n",
       "      <td>NaN</td>\n",
       "      <td>NaN</td>\n",
       "      <td>0.0</td>\n",
       "      <td>False</td>\n",
       "      <td>False</td>\n",
       "      <td>21</td>\n",
       "      <td>2101</td>\n",
       "      <td>15029.0</td>\n",
       "      <td>-0.350</td>\n",
       "      <td>OH</td>\n",
       "      <td>9.0</td>\n",
       "      <td>24.0</td>\n",
       "      <td>K000009</td>\n",
       "    </tr>\n",
       "    <tr>\n",
       "      <th>2</th>\n",
       "      <td>115-hr-267</td>\n",
       "      <td>267</td>\n",
       "      <td>hr</td>\n",
       "      <td>False</td>\n",
       "      <td>115</td>\n",
       "      <td>30</td>\n",
       "      <td>1/4/2017</td>\n",
       "      <td>False</td>\n",
       "      <td>1</td>\n",
       "      <td>True</td>\n",
       "      <td>NaN</td>\n",
       "      <td>To redesignate the Martin Luther King, Junior,...</td>\n",
       "      <td>1</td>\n",
       "      <td>False</td>\n",
       "      <td>NaN</td>\n",
       "      <td>NaN</td>\n",
       "      <td>NaN</td>\n",
       "      <td>NaN</td>\n",
       "      <td>NaN</td>\n",
       "      <td>0</td>\n",
       "      <td>NaN</td>\n",
       "      <td>NaN</td>\n",
       "      <td>NaN</td>\n",
       "      <td>NaN</td>\n",
       "      <td>0</td>\n",
       "      <td>15431-115-100</td>\n",
       "      <td>NaN</td>\n",
       "      <td>John</td>\n",
       "      <td>Lewis, John</td>\n",
       "      <td>Lewis</td>\n",
       "      <td>100.0</td>\n",
       "      <td>NaN</td>\n",
       "      <td>NaN</td>\n",
       "      <td>NaN</td>\n",
       "      <td>NaN</td>\n",
       "      <td>NaN</td>\n",
       "      <td>NaN</td>\n",
       "      <td>True</td>\n",
       "      <td>False</td>\n",
       "      <td>1/8/2018</td>\n",
       "      <td>115-108</td>\n",
       "      <td>0</td>\n",
       "      <td>NaN</td>\n",
       "      <td>NaN</td>\n",
       "      <td>0.0</td>\n",
       "      <td>False</td>\n",
       "      <td>True</td>\n",
       "      <td>21</td>\n",
       "      <td>2101</td>\n",
       "      <td>15431.0</td>\n",
       "      <td>-0.589</td>\n",
       "      <td>GA</td>\n",
       "      <td>5.0</td>\n",
       "      <td>44.0</td>\n",
       "      <td>L000287</td>\n",
       "    </tr>\n",
       "    <tr>\n",
       "      <th>3</th>\n",
       "      <td>115-hr-294</td>\n",
       "      <td>294</td>\n",
       "      <td>hr</td>\n",
       "      <td>False</td>\n",
       "      <td>115</td>\n",
       "      <td>35</td>\n",
       "      <td>1/5/2017</td>\n",
       "      <td>False</td>\n",
       "      <td>1</td>\n",
       "      <td>True</td>\n",
       "      <td>NaN</td>\n",
       "      <td>To designate the facility of the United States...</td>\n",
       "      <td>1</td>\n",
       "      <td>False</td>\n",
       "      <td>NaN</td>\n",
       "      <td>NaN</td>\n",
       "      <td>NaN</td>\n",
       "      <td>NaN</td>\n",
       "      <td>NaN</td>\n",
       "      <td>0</td>\n",
       "      <td>NaN</td>\n",
       "      <td>NaN</td>\n",
       "      <td>NaN</td>\n",
       "      <td>NaN</td>\n",
       "      <td>0</td>\n",
       "      <td>20948-115-200</td>\n",
       "      <td>NaN</td>\n",
       "      <td>Pete</td>\n",
       "      <td>Olson, Pete</td>\n",
       "      <td>Olson</td>\n",
       "      <td>200.0</td>\n",
       "      <td>NaN</td>\n",
       "      <td>NaN</td>\n",
       "      <td>NaN</td>\n",
       "      <td>NaN</td>\n",
       "      <td>NaN</td>\n",
       "      <td>NaN</td>\n",
       "      <td>True</td>\n",
       "      <td>False</td>\n",
       "      <td>3/16/2018</td>\n",
       "      <td>115-133</td>\n",
       "      <td>0</td>\n",
       "      <td>NaN</td>\n",
       "      <td>NaN</td>\n",
       "      <td>1.0</td>\n",
       "      <td>False</td>\n",
       "      <td>True</td>\n",
       "      <td>20</td>\n",
       "      <td>2008</td>\n",
       "      <td>20948.0</td>\n",
       "      <td>0.548</td>\n",
       "      <td>TX</td>\n",
       "      <td>22.0</td>\n",
       "      <td>49.0</td>\n",
       "      <td>O000168</td>\n",
       "    </tr>\n",
       "    <tr>\n",
       "      <th>4</th>\n",
       "      <td>115-hr-360</td>\n",
       "      <td>360</td>\n",
       "      <td>hr</td>\n",
       "      <td>False</td>\n",
       "      <td>115</td>\n",
       "      <td>13</td>\n",
       "      <td>1/6/2017</td>\n",
       "      <td>False</td>\n",
       "      <td>1</td>\n",
       "      <td>False</td>\n",
       "      <td>NaN</td>\n",
       "      <td>To designate the Greater Grand Canyon Heritage...</td>\n",
       "      <td>1</td>\n",
       "      <td>False</td>\n",
       "      <td>NaN</td>\n",
       "      <td>NaN</td>\n",
       "      <td>NaN</td>\n",
       "      <td>NaN</td>\n",
       "      <td>NaN</td>\n",
       "      <td>0</td>\n",
       "      <td>NaN</td>\n",
       "      <td>NaN</td>\n",
       "      <td>NaN</td>\n",
       "      <td>NaN</td>\n",
       "      <td>0</td>\n",
       "      <td>20305-115-100</td>\n",
       "      <td>NaN</td>\n",
       "      <td>Raul</td>\n",
       "      <td>Grijalva, Raul M.</td>\n",
       "      <td>Grijalva</td>\n",
       "      <td>100.0</td>\n",
       "      <td>NaN</td>\n",
       "      <td>NaN</td>\n",
       "      <td>NaN</td>\n",
       "      <td>NaN</td>\n",
       "      <td>NaN</td>\n",
       "      <td>NaN</td>\n",
       "      <td>False</td>\n",
       "      <td>False</td>\n",
       "      <td>NaN</td>\n",
       "      <td>NaN</td>\n",
       "      <td>0</td>\n",
       "      <td>NaN</td>\n",
       "      <td>NaN</td>\n",
       "      <td>0.0</td>\n",
       "      <td>False</td>\n",
       "      <td>False</td>\n",
       "      <td>21</td>\n",
       "      <td>2101</td>\n",
       "      <td>20305.0</td>\n",
       "      <td>-0.599</td>\n",
       "      <td>AZ</td>\n",
       "      <td>3.0</td>\n",
       "      <td>61.0</td>\n",
       "      <td>G000551</td>\n",
       "    </tr>\n",
       "    <tr>\n",
       "      <th>5</th>\n",
       "      <td>115-hr-375</td>\n",
       "      <td>375</td>\n",
       "      <td>hr</td>\n",
       "      <td>False</td>\n",
       "      <td>115</td>\n",
       "      <td>8</td>\n",
       "      <td>1/9/2017</td>\n",
       "      <td>False</td>\n",
       "      <td>1</td>\n",
       "      <td>True</td>\n",
       "      <td>NaN</td>\n",
       "      <td>To designate the Federal building and United S...</td>\n",
       "      <td>1</td>\n",
       "      <td>False</td>\n",
       "      <td>NaN</td>\n",
       "      <td>NaN</td>\n",
       "      <td>NaN</td>\n",
       "      <td>NaN</td>\n",
       "      <td>NaN</td>\n",
       "      <td>0</td>\n",
       "      <td>NaN</td>\n",
       "      <td>NaN</td>\n",
       "      <td>NaN</td>\n",
       "      <td>NaN</td>\n",
       "      <td>1</td>\n",
       "      <td>20351-115-200</td>\n",
       "      <td>NaN</td>\n",
       "      <td>Marsha</td>\n",
       "      <td>Blackburn, Marsha</td>\n",
       "      <td>Blackburn</td>\n",
       "      <td>200.0</td>\n",
       "      <td>NaN</td>\n",
       "      <td>NaN</td>\n",
       "      <td>NaN</td>\n",
       "      <td>NaN</td>\n",
       "      <td>NaN</td>\n",
       "      <td>NaN</td>\n",
       "      <td>True</td>\n",
       "      <td>False</td>\n",
       "      <td>6/6/2017</td>\n",
       "      <td>115-39</td>\n",
       "      <td>0</td>\n",
       "      <td>NaN</td>\n",
       "      <td>NaN</td>\n",
       "      <td>1.0</td>\n",
       "      <td>True</td>\n",
       "      <td>False</td>\n",
       "      <td>20</td>\n",
       "      <td>2008</td>\n",
       "      <td>20351.0</td>\n",
       "      <td>0.618</td>\n",
       "      <td>TN</td>\n",
       "      <td>7.0</td>\n",
       "      <td>54.0</td>\n",
       "      <td>B001243</td>\n",
       "    </tr>\n",
       "    <tr>\n",
       "      <th>6</th>\n",
       "      <td>115-hr-381</td>\n",
       "      <td>381</td>\n",
       "      <td>hr</td>\n",
       "      <td>False</td>\n",
       "      <td>115</td>\n",
       "      <td>45</td>\n",
       "      <td>1/9/2017</td>\n",
       "      <td>False</td>\n",
       "      <td>1</td>\n",
       "      <td>True</td>\n",
       "      <td>NaN</td>\n",
       "      <td>To designate a mountain in the John Muir Wilde...</td>\n",
       "      <td>1</td>\n",
       "      <td>False</td>\n",
       "      <td>NaN</td>\n",
       "      <td>NaN</td>\n",
       "      <td>NaN</td>\n",
       "      <td>NaN</td>\n",
       "      <td>NaN</td>\n",
       "      <td>0</td>\n",
       "      <td>NaN</td>\n",
       "      <td>NaN</td>\n",
       "      <td>NaN</td>\n",
       "      <td>NaN</td>\n",
       "      <td>0</td>\n",
       "      <td>20903-115-200</td>\n",
       "      <td>NaN</td>\n",
       "      <td>Tom</td>\n",
       "      <td>McClintock, Tom</td>\n",
       "      <td>McClintock</td>\n",
       "      <td>200.0</td>\n",
       "      <td>NaN</td>\n",
       "      <td>NaN</td>\n",
       "      <td>NaN</td>\n",
       "      <td>NaN</td>\n",
       "      <td>NaN</td>\n",
       "      <td>NaN</td>\n",
       "      <td>True</td>\n",
       "      <td>False</td>\n",
       "      <td>1/10/2018</td>\n",
       "      <td>115-109</td>\n",
       "      <td>0</td>\n",
       "      <td>NaN</td>\n",
       "      <td>NaN</td>\n",
       "      <td>1.0</td>\n",
       "      <td>False</td>\n",
       "      <td>True</td>\n",
       "      <td>21</td>\n",
       "      <td>2103</td>\n",
       "      <td>20903.0</td>\n",
       "      <td>0.720</td>\n",
       "      <td>CA</td>\n",
       "      <td>4.0</td>\n",
       "      <td>71.0</td>\n",
       "      <td>M001177</td>\n",
       "    </tr>\n",
       "    <tr>\n",
       "      <th>7</th>\n",
       "      <td>115-hr-382</td>\n",
       "      <td>382</td>\n",
       "      <td>hr</td>\n",
       "      <td>False</td>\n",
       "      <td>115</td>\n",
       "      <td>2</td>\n",
       "      <td>1/9/2017</td>\n",
       "      <td>False</td>\n",
       "      <td>1</td>\n",
       "      <td>False</td>\n",
       "      <td>NaN</td>\n",
       "      <td>To amend the Department of Agriculture program...</td>\n",
       "      <td>1</td>\n",
       "      <td>False</td>\n",
       "      <td>NaN</td>\n",
       "      <td>NaN</td>\n",
       "      <td>NaN</td>\n",
       "      <td>NaN</td>\n",
       "      <td>NaN</td>\n",
       "      <td>0</td>\n",
       "      <td>NaN</td>\n",
       "      <td>NaN</td>\n",
       "      <td>NaN</td>\n",
       "      <td>NaN</td>\n",
       "      <td>1</td>\n",
       "      <td>21342-115-100</td>\n",
       "      <td>NaN</td>\n",
       "      <td>Grace</td>\n",
       "      <td>Meng, Grace</td>\n",
       "      <td>Meng</td>\n",
       "      <td>100.0</td>\n",
       "      <td>NaN</td>\n",
       "      <td>NaN</td>\n",
       "      <td>NaN</td>\n",
       "      <td>NaN</td>\n",
       "      <td>NaN</td>\n",
       "      <td>NaN</td>\n",
       "      <td>True</td>\n",
       "      <td>False</td>\n",
       "      <td>NaN</td>\n",
       "      <td>NaN</td>\n",
       "      <td>0</td>\n",
       "      <td>NaN</td>\n",
       "      <td>NaN</td>\n",
       "      <td>0.0</td>\n",
       "      <td>False</td>\n",
       "      <td>False</td>\n",
       "      <td>6</td>\n",
       "      <td>607</td>\n",
       "      <td>21342.0</td>\n",
       "      <td>-0.378</td>\n",
       "      <td>NY</td>\n",
       "      <td>6.0</td>\n",
       "      <td>13.0</td>\n",
       "      <td>M001188</td>\n",
       "    </tr>\n",
       "    <tr>\n",
       "      <th>8</th>\n",
       "      <td>115-hr-401</td>\n",
       "      <td>401</td>\n",
       "      <td>hr</td>\n",
       "      <td>False</td>\n",
       "      <td>115</td>\n",
       "      <td>0</td>\n",
       "      <td>1/10/2017</td>\n",
       "      <td>False</td>\n",
       "      <td>1</td>\n",
       "      <td>False</td>\n",
       "      <td>NaN</td>\n",
       "      <td>To designate the mountain at the Devils Tower ...</td>\n",
       "      <td>1</td>\n",
       "      <td>False</td>\n",
       "      <td>NaN</td>\n",
       "      <td>NaN</td>\n",
       "      <td>NaN</td>\n",
       "      <td>NaN</td>\n",
       "      <td>NaN</td>\n",
       "      <td>0</td>\n",
       "      <td>NaN</td>\n",
       "      <td>NaN</td>\n",
       "      <td>NaN</td>\n",
       "      <td>NaN</td>\n",
       "      <td>1</td>\n",
       "      <td>21710-115-200</td>\n",
       "      <td>NaN</td>\n",
       "      <td>Liz</td>\n",
       "      <td>Cheney, Liz</td>\n",
       "      <td>Cheney</td>\n",
       "      <td>200.0</td>\n",
       "      <td>NaN</td>\n",
       "      <td>NaN</td>\n",
       "      <td>NaN</td>\n",
       "      <td>NaN</td>\n",
       "      <td>NaN</td>\n",
       "      <td>NaN</td>\n",
       "      <td>False</td>\n",
       "      <td>False</td>\n",
       "      <td>NaN</td>\n",
       "      <td>NaN</td>\n",
       "      <td>0</td>\n",
       "      <td>NaN</td>\n",
       "      <td>NaN</td>\n",
       "      <td>1.0</td>\n",
       "      <td>True</td>\n",
       "      <td>False</td>\n",
       "      <td>21</td>\n",
       "      <td>2101</td>\n",
       "      <td>21710.0</td>\n",
       "      <td>0.509</td>\n",
       "      <td>WY</td>\n",
       "      <td>1.0</td>\n",
       "      <td>68.0</td>\n",
       "      <td>C001109</td>\n",
       "    </tr>\n",
       "    <tr>\n",
       "      <th>9</th>\n",
       "      <td>115-hr-443</td>\n",
       "      <td>443</td>\n",
       "      <td>hr</td>\n",
       "      <td>False</td>\n",
       "      <td>115</td>\n",
       "      <td>1</td>\n",
       "      <td>1/11/2017</td>\n",
       "      <td>False</td>\n",
       "      <td>1</td>\n",
       "      <td>False</td>\n",
       "      <td>NaN</td>\n",
       "      <td>To direct the Secretary of the Interior to stu...</td>\n",
       "      <td>1</td>\n",
       "      <td>False</td>\n",
       "      <td>NaN</td>\n",
       "      <td>NaN</td>\n",
       "      <td>NaN</td>\n",
       "      <td>NaN</td>\n",
       "      <td>NaN</td>\n",
       "      <td>0</td>\n",
       "      <td>NaN</td>\n",
       "      <td>NaN</td>\n",
       "      <td>NaN</td>\n",
       "      <td>NaN</td>\n",
       "      <td>0</td>\n",
       "      <td>21179-115-200</td>\n",
       "      <td>NaN</td>\n",
       "      <td>Scott</td>\n",
       "      <td>DesJarlais, Scott</td>\n",
       "      <td>DesJarlais</td>\n",
       "      <td>200.0</td>\n",
       "      <td>NaN</td>\n",
       "      <td>NaN</td>\n",
       "      <td>NaN</td>\n",
       "      <td>NaN</td>\n",
       "      <td>NaN</td>\n",
       "      <td>NaN</td>\n",
       "      <td>True</td>\n",
       "      <td>False</td>\n",
       "      <td>NaN</td>\n",
       "      <td>NaN</td>\n",
       "      <td>0</td>\n",
       "      <td>NaN</td>\n",
       "      <td>NaN</td>\n",
       "      <td>1.0</td>\n",
       "      <td>True</td>\n",
       "      <td>False</td>\n",
       "      <td>21</td>\n",
       "      <td>2101</td>\n",
       "      <td>21179.0</td>\n",
       "      <td>0.580</td>\n",
       "      <td>TN</td>\n",
       "      <td>4.0</td>\n",
       "      <td>54.0</td>\n",
       "      <td>D000616</td>\n",
       "    </tr>\n",
       "  </tbody>\n",
       "</table>\n",
       "</div>"
      ],
      "text/plain": [
       "          BillID  BillNum BillType  Chamber  congress  Cosponsr   IntrDate  \\\n",
       "0   115-hjres-95       95    hjres    False       115         9   4/6/2017   \n",
       "1  115-hjres-139      139    hjres    False       115         3  9/12/2018   \n",
       "2     115-hr-267      267       hr    False       115        30   1/4/2017   \n",
       "3     115-hr-294      294       hr    False       115        35   1/5/2017   \n",
       "4     115-hr-360      360       hr    False       115        13   1/6/2017   \n",
       "5     115-hr-375      375       hr    False       115         8   1/9/2017   \n",
       "6     115-hr-381      381       hr    False       115        45   1/9/2017   \n",
       "7     115-hr-382      382       hr    False       115         2   1/9/2017   \n",
       "8     115-hr-401      401       hr    False       115         0  1/10/2017   \n",
       "9     115-hr-443      443       hr    False       115         1  1/11/2017   \n",
       "\n",
       "    Mult  MultNo   PLaw  Private  \\\n",
       "0  False       1  False      NaN   \n",
       "1  False       1  False      NaN   \n",
       "2  False       1   True      NaN   \n",
       "3  False       1   True      NaN   \n",
       "4  False       1  False      NaN   \n",
       "5  False       1   True      NaN   \n",
       "6  False       1   True      NaN   \n",
       "7  False       1  False      NaN   \n",
       "8  False       1  False      NaN   \n",
       "9  False       1  False      NaN   \n",
       "\n",
       "                                               Title  desig   Veto  Class  \\\n",
       "0  Expressing support for designation of Septembe...      1  False    NaN   \n",
       "1  Providing for the designation of a \"Freedom to...      1  False    NaN   \n",
       "2  To redesignate the Martin Luther King, Junior,...      1  False    NaN   \n",
       "3  To designate the facility of the United States...      1  False    NaN   \n",
       "4  To designate the Greater Grand Canyon Heritage...      1  False    NaN   \n",
       "5  To designate the Federal building and United S...      1  False    NaN   \n",
       "6  To designate a mountain in the John Muir Wilde...      1  False    NaN   \n",
       "7  To amend the Department of Agriculture program...      1  False    NaN   \n",
       "8  To designate the mountain at the Devils Tower ...      1  False    NaN   \n",
       "9  To direct the Secretary of the Interior to stu...      1  False    NaN   \n",
       "\n",
       "   ComC  ComR  CumHServ  CumSServ  Delegate  District  DW1  FrstConH  \\\n",
       "0   NaN   NaN       NaN       NaN         0       NaN  NaN       NaN   \n",
       "1   NaN   NaN       NaN       NaN         0       NaN  NaN       NaN   \n",
       "2   NaN   NaN       NaN       NaN         0       NaN  NaN       NaN   \n",
       "3   NaN   NaN       NaN       NaN         0       NaN  NaN       NaN   \n",
       "4   NaN   NaN       NaN       NaN         0       NaN  NaN       NaN   \n",
       "5   NaN   NaN       NaN       NaN         0       NaN  NaN       NaN   \n",
       "6   NaN   NaN       NaN       NaN         0       NaN  NaN       NaN   \n",
       "7   NaN   NaN       NaN       NaN         0       NaN  NaN       NaN   \n",
       "8   NaN   NaN       NaN       NaN         0       NaN  NaN       NaN   \n",
       "9   NaN   NaN       NaN       NaN         0       NaN  NaN       NaN   \n",
       "\n",
       "   FrstConS  Gender       MemberID  Mref NameFirst             NameFull  \\\n",
       "0       NaN       1  29573-115-100   NaN    Sheila  Jackson Lee, Sheila   \n",
       "1       NaN       1  15029-115-100   NaN     Marcy        Kaptur, Marcy   \n",
       "2       NaN       0  15431-115-100   NaN      John          Lewis, John   \n",
       "3       NaN       0  20948-115-200   NaN      Pete          Olson, Pete   \n",
       "4       NaN       0  20305-115-100   NaN      Raul    Grijalva, Raul M.   \n",
       "5       NaN       1  20351-115-200   NaN    Marsha    Blackburn, Marsha   \n",
       "6       NaN       0  20903-115-200   NaN       Tom      McClintock, Tom   \n",
       "7       NaN       1  21342-115-100   NaN     Grace          Meng, Grace   \n",
       "8       NaN       1  21710-115-200   NaN       Liz          Cheney, Liz   \n",
       "9       NaN       0  21179-115-200   NaN     Scott    DesJarlais, Scott   \n",
       "\n",
       "      NameLast  Party  PooleID  Postal  State  URL  ChRef  RankRef  PassH  \\\n",
       "0  Jackson Lee  100.0      NaN     NaN    NaN  NaN    NaN      NaN  False   \n",
       "1       Kaptur  100.0      NaN     NaN    NaN  NaN    NaN      NaN  False   \n",
       "2        Lewis  100.0      NaN     NaN    NaN  NaN    NaN      NaN   True   \n",
       "3        Olson  200.0      NaN     NaN    NaN  NaN    NaN      NaN   True   \n",
       "4     Grijalva  100.0      NaN     NaN    NaN  NaN    NaN      NaN  False   \n",
       "5    Blackburn  200.0      NaN     NaN    NaN  NaN    NaN      NaN   True   \n",
       "6   McClintock  200.0      NaN     NaN    NaN  NaN    NaN      NaN   True   \n",
       "7         Meng  100.0      NaN     NaN    NaN  NaN    NaN      NaN   True   \n",
       "8       Cheney  200.0      NaN     NaN    NaN  NaN    NaN      NaN  False   \n",
       "9   DesJarlais  200.0      NaN     NaN    NaN  NaN    NaN      NaN   True   \n",
       "\n",
       "   PassS   PLawDate  PLawNum  ImpBill  SubChRef  SubRankRef  Majority  \\\n",
       "0  False        NaN      NaN        0       NaN         NaN       0.0   \n",
       "1  False        NaN      NaN        0       NaN         NaN       0.0   \n",
       "2  False   1/8/2018  115-108        0       NaN         NaN       0.0   \n",
       "3  False  3/16/2018  115-133        0       NaN         NaN       1.0   \n",
       "4  False        NaN      NaN        0       NaN         NaN       0.0   \n",
       "5  False   6/6/2017   115-39        0       NaN         NaN       1.0   \n",
       "6  False  1/10/2018  115-109        0       NaN         NaN       1.0   \n",
       "7  False        NaN      NaN        0       NaN         NaN       0.0   \n",
       "8  False        NaN      NaN        0       NaN         NaN       1.0   \n",
       "9  False        NaN      NaN        0       NaN         NaN       1.0   \n",
       "\n",
       "   ReportH  ReportS  Major  Minor    icpsr  nominate_dim1 state_abbrev  \\\n",
       "0    False    False     20   2008  29573.0         -0.460           TX   \n",
       "1    False    False     21   2101  15029.0         -0.350           OH   \n",
       "2    False     True     21   2101  15431.0         -0.589           GA   \n",
       "3    False     True     20   2008  20948.0          0.548           TX   \n",
       "4    False    False     21   2101  20305.0         -0.599           AZ   \n",
       "5     True    False     20   2008  20351.0          0.618           TN   \n",
       "6    False     True     21   2103  20903.0          0.720           CA   \n",
       "7    False    False      6    607  21342.0         -0.378           NY   \n",
       "8     True    False     21   2101  21710.0          0.509           WY   \n",
       "9     True    False     21   2101  21179.0          0.580           TN   \n",
       "\n",
       "   district_code  state_icpsr bioguide_id  \n",
       "0           18.0         49.0     J000032  \n",
       "1            9.0         24.0     K000009  \n",
       "2            5.0         44.0     L000287  \n",
       "3           22.0         49.0     O000168  \n",
       "4            3.0         61.0     G000551  \n",
       "5            7.0         54.0     B001243  \n",
       "6            4.0         71.0     M001177  \n",
       "7            6.0         13.0     M001188  \n",
       "8            1.0         68.0     C001109  \n",
       "9            4.0         54.0     D000616  "
      ]
     },
     "execution_count": 44,
     "metadata": {},
     "output_type": "execute_result"
    }
   ],
   "source": [
    "df.head(10)"
   ]
  },
  {
   "cell_type": "code",
   "execution_count": 45,
   "metadata": {},
   "outputs": [
    {
     "data": {
      "text/plain": [
       "BillID            object\n",
       "BillNum            int64\n",
       "BillType          object\n",
       "Chamber             bool\n",
       "congress           int64\n",
       "Cosponsr           int64\n",
       "IntrDate          object\n",
       "Mult                bool\n",
       "MultNo             int64\n",
       "PLaw                bool\n",
       "Private          float64\n",
       "Title             object\n",
       "desig              int64\n",
       "Veto                bool\n",
       "Class            float64\n",
       "ComC             float64\n",
       "ComR             float64\n",
       "CumHServ         float64\n",
       "CumSServ         float64\n",
       "Delegate           int64\n",
       "District         float64\n",
       "DW1              float64\n",
       "FrstConH         float64\n",
       "FrstConS         float64\n",
       "Gender             int64\n",
       "MemberID          object\n",
       "Mref             float64\n",
       "NameFirst         object\n",
       "NameFull          object\n",
       "NameLast          object\n",
       "Party            float64\n",
       "PooleID          float64\n",
       "Postal           float64\n",
       "State            float64\n",
       "URL              float64\n",
       "ChRef            float64\n",
       "RankRef          float64\n",
       "PassH               bool\n",
       "PassS               bool\n",
       "PLawDate          object\n",
       "PLawNum           object\n",
       "ImpBill            int64\n",
       "SubChRef         float64\n",
       "SubRankRef       float64\n",
       "Majority         float64\n",
       "ReportH             bool\n",
       "ReportS             bool\n",
       "Major              int64\n",
       "Minor              int64\n",
       "icpsr            float64\n",
       "nominate_dim1    float64\n",
       "state_abbrev      object\n",
       "district_code    float64\n",
       "state_icpsr      float64\n",
       "bioguide_id       object\n",
       "dtype: object"
      ]
     },
     "execution_count": 45,
     "metadata": {},
     "output_type": "execute_result"
    }
   ],
   "source": [
    "#Check Data Types\n",
    "df.dtypes"
   ]
  },
  {
   "cell_type": "code",
   "execution_count": 46,
   "metadata": {},
   "outputs": [
    {
     "data": {
      "text/plain": [
       "(22420, 55)"
      ]
     },
     "execution_count": 46,
     "metadata": {},
     "output_type": "execute_result"
    }
   ],
   "source": [
    "#Check Shape of Dataframe\n",
    "df.shape"
   ]
  },
  {
   "cell_type": "markdown",
   "metadata": {},
   "source": [
    "# EDA"
   ]
  },
  {
   "cell_type": "markdown",
   "metadata": {},
   "source": [
    "## Understanding and Plotting Value"
   ]
  },
  {
   "cell_type": "code",
   "execution_count": 47,
   "metadata": {},
   "outputs": [],
   "source": [
    "# greater then 1 = rep\n",
    "#less then 1 = dem\n",
    "df.nominate_dim1 = df.nominate_dim1.fillna(0)"
   ]
  },
  {
   "cell_type": "code",
   "execution_count": 48,
   "metadata": {},
   "outputs": [
    {
     "data": {
      "text/plain": [
       "<matplotlib.axes._subplots.AxesSubplot at 0x13d0aff28>"
      ]
     },
     "execution_count": 48,
     "metadata": {},
     "output_type": "execute_result"
    },
    {
     "data": {
      "image/png": "[encoded data removed]",
      "text/plain": [
       "<Figure size 432x288 with 1 Axes>"
      ]
     },
     "metadata": {
      "needs_background": "light"
     },
     "output_type": "display_data"
    }
   ],
   "source": [
    "df.nominate_dim1.plot.hist()"
   ]
  },
  {
   "cell_type": "code",
   "execution_count": 91,
   "metadata": {},
   "outputs": [
    {
     "data": {
      "text/plain": [
       "Text(0, 0.5, 'Number of Bills')"
      ]
     },
     "execution_count": 91,
     "metadata": {},
     "output_type": "execute_result"
    },
    {
     "data": {
      "image/png": "[encoded data removed]",
      "text/plain": [
       "<Figure size 432x288 with 1 Axes>"
      ]
     },
     "metadata": {
      "needs_background": "light"
     },
     "output_type": "display_data"
    }
   ],
   "source": [
    "df['nominate_dim1'].plot(kind=\"hist\")\n",
    "plt.title(\"Ideological Estimate of Sponsers\")\n",
    "plt.xlabel(\"More Democatic or Republican\")\n",
    "plt.ylabel(\"Number of Bills\")"
   ]
  },
  {
   "cell_type": "code",
   "execution_count": 49,
   "metadata": {},
   "outputs": [],
   "source": [
    "df.Party = df.Party.fillna(328)"
   ]
  },
  {
   "cell_type": "code",
   "execution_count": 50,
   "metadata": {},
   "outputs": [],
   "source": [
    "df.Party = df.Party.astype(int)"
   ]
  },
  {
   "cell_type": "code",
   "execution_count": 51,
   "metadata": {},
   "outputs": [],
   "source": [
    "label = preprocessing.LabelEncoder()\n",
    "df.Party = label.fit_transform(df.Party)"
   ]
  },
  {
   "cell_type": "code",
   "execution_count": 52,
   "metadata": {},
   "outputs": [
    {
     "data": {
      "text/plain": [
       "array([0, 1, 2])"
      ]
     },
     "execution_count": 52,
     "metadata": {},
     "output_type": "execute_result"
    }
   ],
   "source": [
    "df.Party.unique()"
   ]
  },
  {
   "cell_type": "code",
   "execution_count": 53,
   "metadata": {},
   "outputs": [
    {
     "data": {
      "text/plain": [
       "<matplotlib.collections.PathCollection at 0x13d760be0>"
      ]
     },
     "execution_count": 53,
     "metadata": {},
     "output_type": "execute_result"
    },
    {
     "data": {
      "image/png": "[encoded data removed]",
      "text/plain": [
       "<Figure size 432x288 with 1 Axes>"
      ]
     },
     "metadata": {
      "needs_background": "light"
     },
     "output_type": "display_data"
    }
   ],
   "source": [
    "#\n",
    "plt.scatter(df.nominate_dim1, df.Party)"
   ]
  },
  {
   "cell_type": "code",
   "execution_count": 54,
   "metadata": {},
   "outputs": [
    {
     "data": {
      "text/plain": [
       "<matplotlib.axes._subplots.AxesSubplot at 0x13d853748>"
      ]
     },
     "execution_count": 54,
     "metadata": {},
     "output_type": "execute_result"
    },
    {
     "data": {
      "image/png": "[encoded data removed]",
      "text/plain": [
       "<Figure size 432x288 with 1 Axes>"
      ]
     },
     "metadata": {
      "needs_background": "light"
     },
     "output_type": "display_data"
    }
   ],
   "source": [
    "#Member of Majority Party\n",
    "df.Majority.value_counts().plot(kind='bar')"
   ]
  },
  {
   "cell_type": "code",
   "execution_count": 55,
   "metadata": {},
   "outputs": [
    {
     "data": {
      "text/plain": [
       "0    12405\n",
       "1     9592\n",
       "2      423\n",
       "Name: Party, dtype: int64"
      ]
     },
     "execution_count": 55,
     "metadata": {},
     "output_type": "execute_result"
    }
   ],
   "source": [
    "#100=Dem\n",
    "#200=Rep\n",
    "#328=ISCPSR\n",
    "df.Party.value_counts()"
   ]
  },
  {
   "cell_type": "code",
   "execution_count": 79,
   "metadata": {},
   "outputs": [
    {
     "data": {
      "text/plain": [
       "<matplotlib.axes._subplots.AxesSubplot at 0x142e056a0>"
      ]
     },
     "execution_count": 79,
     "metadata": {},
     "output_type": "execute_result"
    },
    {
     "data": {
      "image/png": "[encoded data removed]",
      "text/plain": [
       "<Figure size 432x288 with 1 Axes>"
      ]
     },
     "metadata": {
      "needs_background": "light"
     },
     "output_type": "display_data"
    }
   ],
   "source": [
    "df.PLaw.value_counts().plot(x='Pass or Fail', kind='bar')"
   ]
  },
  {
   "cell_type": "code",
   "execution_count": 86,
   "metadata": {},
   "outputs": [
    {
     "data": {
      "text/plain": [
       "Text(0, 0.5, 'Number of Bills')"
      ]
     },
     "execution_count": 86,
     "metadata": {},
     "output_type": "execute_result"
    },
    {
     "data": {
      "image/png": "[encoded data removed]",
      "text/plain": [
       "<Figure size 432x288 with 1 Axes>"
      ]
     },
     "metadata": {
      "needs_background": "light"
     },
     "output_type": "display_data"
    }
   ],
   "source": [
    "df['PLaw'].value_counts().plot(kind=\"bar\", title=\"test\")\n",
    "plt.title(\"Number of laws Pass vs Failed\")\n",
    "plt.xlabel(\"Pass or Fail\")\n",
    "plt.ylabel(\"Number of Bills\")"
   ]
  },
  {
   "cell_type": "code",
   "execution_count": 56,
   "metadata": {},
   "outputs": [
    {
     "data": {
      "text/plain": [
       "<matplotlib.axes._subplots.AxesSubplot at 0x13d954f98>"
      ]
     },
     "execution_count": 56,
     "metadata": {},
     "output_type": "execute_result"
    },
    {
     "data": {
      "image/png": "[encoded data removed]",
      "text/plain": [
       "<Figure size 432x288 with 1 Axes>"
      ]
     },
     "metadata": {
      "needs_background": "light"
     },
     "output_type": "display_data"
    }
   ],
   "source": [
    "df.Party.value_counts().plot(kind='bar')"
   ]
  },
  {
   "cell_type": "code",
   "execution_count": 59,
   "metadata": {},
   "outputs": [
    {
     "data": {
      "text/plain": [
       "hr       14393\n",
       "s         7649\n",
       "hjres      235\n",
       "sjres      143\n",
       "Name: BillType, dtype: int64"
      ]
     },
     "execution_count": 59,
     "metadata": {},
     "output_type": "execute_result"
    }
   ],
   "source": [
    "# HR=House Bill\n",
    "# S=Senate Bill\n",
    "# HJRES=House Joint Resolution\n",
    "# SJRES= Senate Joint Resoltion\n",
    "\n",
    "df.BillType.value_counts()"
   ]
  },
  {
   "cell_type": "code",
   "execution_count": 60,
   "metadata": {},
   "outputs": [
    {
     "data": {
      "text/plain": [
       "<matplotlib.axes._subplots.AxesSubplot at 0x13e9427b8>"
      ]
     },
     "execution_count": 60,
     "metadata": {},
     "output_type": "execute_result"
    },
    {
     "data": {
      "image/png": "[encoded data removed]",
      "text/plain": [
       "<Figure size 432x288 with 1 Axes>"
      ]
     },
     "metadata": {
      "needs_background": "light"
     },
     "output_type": "display_data"
    }
   ],
   "source": [
    "df.BillType.value_counts().plot(kind='bar')"
   ]
  },
  {
   "cell_type": "code",
   "execution_count": 61,
   "metadata": {},
   "outputs": [
    {
     "data": {
      "text/plain": [
       "False    14628\n",
       "True      7792\n",
       "Name: Chamber, dtype: int64"
      ]
     },
     "execution_count": 61,
     "metadata": {},
     "output_type": "execute_result"
    }
   ],
   "source": [
    "#False or zero is House\n",
    "#True or 1 is Senate\n",
    "df.Chamber.value_counts()"
   ]
  },
  {
   "cell_type": "code",
   "execution_count": 62,
   "metadata": {},
   "outputs": [
    {
     "data": {
      "text/plain": [
       "<matplotlib.axes._subplots.AxesSubplot at 0x13ea20d30>"
      ]
     },
     "execution_count": 62,
     "metadata": {},
     "output_type": "execute_result"
    },
    {
     "data": {
      "image/png": "[encoded data removed]",
      "text/plain": [
       "<Figure size 432x288 with 1 Axes>"
      ]
     },
     "metadata": {
      "needs_background": "light"
     },
     "output_type": "display_data"
    }
   ],
   "source": [
    "df.Chamber.value_counts().plot(kind='bar')"
   ]
  },
  {
   "cell_type": "code",
   "execution_count": 63,
   "metadata": {},
   "outputs": [
    {
     "data": {
      "text/plain": [
       "0      4202\n",
       "1      3892\n",
       "2      1900\n",
       "3      1636\n",
       "4      1111\n",
       "       ... \n",
       "279       1\n",
       "247       1\n",
       "215       1\n",
       "303       1\n",
       "383       1\n",
       "Name: Cosponsr, Length: 278, dtype: int64"
      ]
     },
     "execution_count": 63,
     "metadata": {},
     "output_type": "execute_result"
    }
   ],
   "source": [
    "#How many people Co-Sponsered bills\n",
    "df.Cosponsr.value_counts()"
   ]
  },
  {
   "cell_type": "code",
   "execution_count": 64,
   "metadata": {},
   "outputs": [
    {
     "data": {
      "text/plain": [
       "677"
      ]
     },
     "execution_count": 64,
     "metadata": {},
     "output_type": "execute_result"
    }
   ],
   "source": [
    "#Starts 1/03/17-5/22/20\n",
    "len(df.IntrDate.unique())"
   ]
  },
  {
   "cell_type": "code",
   "execution_count": 65,
   "metadata": {},
   "outputs": [
    {
     "data": {
      "text/plain": [
       "<matplotlib.axes._subplots.AxesSubplot at 0x13fac0ba8>"
      ]
     },
     "execution_count": 65,
     "metadata": {},
     "output_type": "execute_result"
    },
    {
     "data": {
      "image/png": "[encoded data removed]",
      "text/plain": [
       "<Figure size 432x288 with 1 Axes>"
      ]
     },
     "metadata": {
      "needs_background": "light"
     },
     "output_type": "display_data"
    }
   ],
   "source": [
    "#What Agenda the bill addresses(CodeBook)\n",
    "#Top 5:\n",
    "# 1. Health\n",
    "# 2. Domestic Commerce\n",
    "# 3. Civil Rights\n",
    "# 4. Defense\n",
    "# 5. Public Lands\n",
    "df.Major.value_counts().plot(kind='bar')"
   ]
  },
  {
   "cell_type": "code",
   "execution_count": 66,
   "metadata": {},
   "outputs": [
    {
     "data": {
      "text/plain": [
       "<matplotlib.axes._subplots.AxesSubplot at 0x13faeb978>"
      ]
     },
     "execution_count": 66,
     "metadata": {},
     "output_type": "execute_result"
    },
    {
     "data": {
      "image/png": "[encoded data removed]",
      "text/plain": [
       "<Figure size 432x288 with 1 Axes>"
      ]
     },
     "metadata": {
      "needs_background": "light"
     },
     "output_type": "display_data"
    }
   ],
   "source": [
    "#Number of Referals\n",
    "df.MultNo.value_counts().plot(kind='bar')"
   ]
  },
  {
   "cell_type": "code",
   "execution_count": 67,
   "metadata": {},
   "outputs": [
    {
     "data": {
      "text/plain": [
       "<matplotlib.axes._subplots.AxesSubplot at 0x13feea588>"
      ]
     },
     "execution_count": 67,
     "metadata": {},
     "output_type": "execute_result"
    },
    {
     "data": {
      "image/png": "[encoded data removed]",
      "text/plain": [
       "<Figure size 432x288 with 1 Axes>"
      ]
     },
     "metadata": {
      "needs_background": "light"
     },
     "output_type": "display_data"
    }
   ],
   "source": [
    "# Pass House\n",
    "df.PassH.value_counts().plot(kind='bar')"
   ]
  },
  {
   "cell_type": "code",
   "execution_count": 68,
   "metadata": {},
   "outputs": [
    {
     "data": {
      "text/plain": [
       "<matplotlib.axes._subplots.AxesSubplot at 0x13fef2c88>"
      ]
     },
     "execution_count": 68,
     "metadata": {},
     "output_type": "execute_result"
    },
    {
     "data": {
      "image/png": "[encoded data removed]",
      "text/plain": [
       "<Figure size 432x288 with 1 Axes>"
      ]
     },
     "metadata": {
      "needs_background": "light"
     },
     "output_type": "display_data"
    }
   ],
   "source": [
    "#Pass Senate\n",
    "df.PassS.value_counts().plot(kind='bar')"
   ]
  },
  {
   "cell_type": "code",
   "execution_count": 69,
   "metadata": {},
   "outputs": [
    {
     "data": {
      "text/plain": [
       "False    22413\n",
       "True         7\n",
       "Name: Veto, dtype: int64"
      ]
     },
     "execution_count": 69,
     "metadata": {},
     "output_type": "execute_result"
    }
   ],
   "source": [
    "df.Veto.value_counts()"
   ]
  },
  {
   "cell_type": "markdown",
   "metadata": {},
   "source": [
    "## WordCloud with Title values"
   ]
  },
  {
   "cell_type": "code",
   "execution_count": 70,
   "metadata": {},
   "outputs": [],
   "source": [
    "#Remove Words from Title to get a better sense of what bills are in data\n",
    "df['Title'] = df['Title'].str.replace(r'purposes', '')\n",
    "df['Title'] = df['Title'].str.replace(r'bill', '')\n",
    "df['Title'] = df['Title'].str.replace(r'amend', '')\n",
    "df['Title'] = df['Title'].str.replace(r'title', '')\n",
    "df['Title'] = df['Title'].str.replace(r'United', '')\n",
    "df['Title'] = df['Title'].str.replace(r'States', '')\n",
    "df['Title'] = df['Title'].str.replace(r'Act', '')\n",
    "df['Title'] = df['Title'].str.replace(r'program', '')\n",
    "df['Title'] = df['Title'].str.replace(r'Code', '')\n",
    "df['Title'] = df['Title'].str.replace(r'certain', '')\n",
    "df['Title'] = df['Title'].str.replace(r'improve', '')\n",
    "df['Title'] = df['Title'].str.replace(r'provide', '')\n",
    "df['Title'] = df['Title'].str.replace(r'establish', '')\n",
    "df['Title'] = df['Title'].str.replace(r'prohibit', '')\n",
    "df['Title'] = df['Title'].str.replace(r'service', '')\n",
    "df['Title'] = df['Title'].str.replace(r'Federal', '')\n",
    "df['Title'] = df['Title'].str.replace(r'Secretary', '')\n",
    "df['Title'] = df['Title'].str.replace(r'Service', '')\n",
    "df['Title'] = df['Title'].str.replace(r'use', '')\n",
    "df['Title'] = df['Title'].str.replace(r'include', '')\n",
    "df['Title'] = df['Title'].str.replace(r'require', '')\n",
    "df['Title'] = df['Title'].str.replace(r'requirement', '')\n",
    "df['Title'] = df['Title'].str.replace(r'ensure', '')\n",
    "df['Title'] = df['Title'].str.replace(r'additional', '')\n",
    "df['Title'] = df['Title'].str.replace(r'prohibit', '')\n",
    "df['Title'] = df['Title'].str.replace(r'support', '')\n",
    "df['Title'] = df['Title'].str.replace(r'care', '')"
   ]
  },
  {
   "cell_type": "code",
   "execution_count": 71,
   "metadata": {},
   "outputs": [],
   "source": [
    "#Creating word cloud \n",
    "df['Title'] = df['Title'].fillna(\"\").astype('str')\n",
    "title_corpus = ' '.join(df['Title'])\n",
    "title_wordcloud = WordCloud(stopwords=STOPWORDS, background_color='red', height=2000, width=4000).generate(title_corpus)"
   ]
  },
  {
   "cell_type": "code",
   "execution_count": 72,
   "metadata": {},
   "outputs": [
    {
     "data": {
      "image/png": "[encoded data removed]",
      "text/plain": [
       "<Figure size 1152x576 with 1 Axes>"
      ]
     },
     "metadata": {
      "needs_background": "light"
     },
     "output_type": "display_data"
    }
   ],
   "source": [
    "#Plotting WordCloud\n",
    "plt.figure(figsize=(16,8))\n",
    "plt.imshow(title_wordcloud)\n",
    "plt.axis('off')\n",
    "plt.show()"
   ]
  },
  {
   "cell_type": "markdown",
   "metadata": {},
   "source": [
    "# Data Prep"
   ]
  },
  {
   "cell_type": "code",
   "execution_count": 4,
   "metadata": {},
   "outputs": [],
   "source": [
    "df = pd.read_csv('bills115-16partialAug92020.csv', encoding='latin1')"
   ]
  },
  {
   "cell_type": "code",
   "execution_count": 5,
   "metadata": {},
   "outputs": [],
   "source": [
    "#Remove unneeded columns\n",
    "df.drop(columns = {'FrstConS', 'FrstConH','CumHServ', \n",
    "                   'CumSServ', 'Class','ComC', 'ComR', \n",
    "                   'BillNum', 'PLawDate', 'PLawNum', \n",
    "                   'NameFirst', 'NameLast', 'Minor',\n",
    "                   'Private', 'ReportH', 'ReportS', \n",
    "                   'NameFull', 'BillID', 'Mref',\n",
    "                   'PooleID', 'Postal', 'State', 'URL',\n",
    "                   'ChRef', 'RankRef', 'SubChRef', 'SubRankRef',\n",
    "                   'bioguide_id', 'Title', 'state_abbrev', 'District',\n",
    "                   'DW1'}, axis=1, inplace=True)"
   ]
  },
  {
   "cell_type": "code",
   "execution_count": 6,
   "metadata": {},
   "outputs": [],
   "source": [
    "#First removing the '-' and quotations around Member ID so it can turn into a float. \n",
    "#Also Replace NA to digits\n",
    "df['MemberID'] = df.MemberID.str.replace('-?' , '')\n",
    "df['MemberID'] = df.MemberID.str.replace('NA?' , '00')"
   ]
  },
  {
   "cell_type": "code",
   "execution_count": 7,
   "metadata": {},
   "outputs": [],
   "source": [
    "#fill missing data with 3rd party and change datatype to int for model\n",
    "df.Party = df.Party.fillna(328)\n",
    "df.Party = df.Party.astype(int)"
   ]
  },
  {
   "cell_type": "code",
   "execution_count": 8,
   "metadata": {},
   "outputs": [],
   "source": [
    "# Using Label encoding to assign value to BillType and Party\n",
    "label = preprocessing.LabelEncoder()\n",
    "df.BillType = label.fit_transform(df.BillType)\n",
    "df.Party = label.fit_transform(df.Party)"
   ]
  },
  {
   "cell_type": "code",
   "execution_count": 9,
   "metadata": {},
   "outputs": [
    {
     "data": {
      "text/plain": [
       "1    14393\n",
       "2     7649\n",
       "0      235\n",
       "3      143\n",
       "Name: BillType, dtype: int64"
      ]
     },
     "execution_count": 9,
     "metadata": {},
     "output_type": "execute_result"
    }
   ],
   "source": [
    "# Using Label encoding to assign value to BillType\n",
    "df.BillType.value_counts()\n",
    "# 1=House Bill\n",
    "# 2=Senate Bill\n",
    "# 0=House Joint Resolution\n",
    "# 3= Senate Joint Resoltion"
   ]
  },
  {
   "cell_type": "code",
   "execution_count": 10,
   "metadata": {},
   "outputs": [],
   "source": [
    "#Changed string to fit in model\n",
    "df['IntrDate'] = df.IntrDate.str.replace('/''?' , '')"
   ]
  },
  {
   "cell_type": "code",
   "execution_count": 11,
   "metadata": {},
   "outputs": [],
   "source": [
    "#Fill district code with none\n",
    "df.district_code = df.district_code.fillna(0)"
   ]
  },
  {
   "cell_type": "code",
   "execution_count": 12,
   "metadata": {},
   "outputs": [],
   "source": [
    "#Fill State_icpsr with none\n",
    "df.state_icpsr = df.state_icpsr.fillna(0)"
   ]
  },
  {
   "cell_type": "code",
   "execution_count": 13,
   "metadata": {},
   "outputs": [],
   "source": [
    "#Fill Majority with none\n",
    "df.Majority = df.Majority.fillna(0)"
   ]
  },
  {
   "cell_type": "code",
   "execution_count": 14,
   "metadata": {},
   "outputs": [],
   "source": [
    "#Change majority to int \n",
    "df.Majority = df.Majority.astype(int)"
   ]
  },
  {
   "cell_type": "code",
   "execution_count": 15,
   "metadata": {},
   "outputs": [],
   "source": [
    "df.icpsr = df.icpsr.fillna(0)\n",
    "df.icpsr = df.icpsr.astype(int)"
   ]
  },
  {
   "cell_type": "code",
   "execution_count": 16,
   "metadata": {},
   "outputs": [],
   "source": [
    "df.district_code = df.district_code.astype(int)"
   ]
  },
  {
   "cell_type": "code",
   "execution_count": 17,
   "metadata": {},
   "outputs": [],
   "source": [
    "df.state_icpsr=df.state_icpsr.astype(int)"
   ]
  },
  {
   "cell_type": "code",
   "execution_count": 18,
   "metadata": {},
   "outputs": [],
   "source": [
    "df.nominate_dim1 = df.nominate_dim1.fillna(0)"
   ]
  },
  {
   "cell_type": "code",
   "execution_count": 19,
   "metadata": {},
   "outputs": [],
   "source": [
    "df.nominate_dim1 = df"
   ]
  },
  {
   "cell_type": "code",
   "execution_count": 20,
   "metadata": {},
   "outputs": [
    {
     "data": {
      "text/plain": [
       "array([0, 1, 2, 3], dtype=object)"
      ]
     },
     "execution_count": 20,
     "metadata": {},
     "output_type": "execute_result"
    }
   ],
   "source": [
    "df.nominate_dim1.unique()"
   ]
  },
  {
   "cell_type": "code",
   "execution_count": 21,
   "metadata": {},
   "outputs": [
    {
     "data": {
      "text/plain": [
       "BillType          int64\n",
       "Chamber            bool\n",
       "congress          int64\n",
       "Cosponsr          int64\n",
       "IntrDate         object\n",
       "Mult               bool\n",
       "MultNo            int64\n",
       "PLaw               bool\n",
       "desig             int64\n",
       "Veto               bool\n",
       "Delegate          int64\n",
       "Gender            int64\n",
       "MemberID         object\n",
       "Party             int64\n",
       "PassH              bool\n",
       "PassS              bool\n",
       "ImpBill           int64\n",
       "Majority          int64\n",
       "Major             int64\n",
       "icpsr             int64\n",
       "nominate_dim1    object\n",
       "district_code     int64\n",
       "state_icpsr       int64\n",
       "dtype: object"
      ]
     },
     "execution_count": 21,
     "metadata": {},
     "output_type": "execute_result"
    }
   ],
   "source": [
    "df.dtypes"
   ]
  },
  {
   "cell_type": "markdown",
   "metadata": {},
   "source": [
    "# Modeling"
   ]
  },
  {
   "cell_type": "markdown",
   "metadata": {},
   "source": [
    "### Train Test Split"
   ]
  },
  {
   "cell_type": "code",
   "execution_count": 23,
   "metadata": {},
   "outputs": [],
   "source": [
    "#Creating Features and Target\n",
    "X = df.drop(columns='PLaw')\n",
    "y = df.PLaw"
   ]
  },
  {
   "cell_type": "markdown",
   "metadata": {},
   "source": [
    "### Smote"
   ]
  },
  {
   "cell_type": "markdown",
   "metadata": {},
   "source": [
    "To deal with the imbalance between bills that are passed and are not passed we will be using the smote method\n",
    "to oversample out our data "
   ]
  },
  {
   "cell_type": "code",
   "execution_count": 24,
   "metadata": {},
   "outputs": [
    {
     "name": "stderr",
     "output_type": "stream",
     "text": [
      "/opt/anaconda3/envs/learn-env/lib/python3.6/site-packages/sklearn/utils/deprecation.py:86: FutureWarning: Function safe_indexing is deprecated; safe_indexing is deprecated in version 0.22 and will be removed in version 0.24.\n",
      "  warnings.warn(msg, category=FutureWarning)\n"
     ]
    }
   ],
   "source": [
    "X_train, X_test, y_train, y_test = train_test_split(X, y,test_size=0.25,random_state=27)\n",
    "sm = SMOTE(sampling_strategy='auto', random_state=27)\n",
    "X_train, y_train = sm.fit_sample(X_train, y_train)"
   ]
  },
  {
   "cell_type": "markdown",
   "metadata": {},
   "source": [
    "## Baseline Model"
   ]
  },
  {
   "cell_type": "code",
   "execution_count": 27,
   "metadata": {},
   "outputs": [
    {
     "name": "stderr",
     "output_type": "stream",
     "text": [
      "/opt/anaconda3/envs/learn-env/lib/python3.6/site-packages/sklearn/dummy.py:132: FutureWarning: The default value of strategy will change from stratified to prior in 0.24.\n",
      "  \"stratified to prior in 0.24.\", FutureWarning)\n"
     ]
    }
   ],
   "source": [
    "#Basic Dummy Classifier popularly used as a baseline model\n",
    "dummy = DummyClassifier().fit(X_train, y_train)\n",
    "dummy_pred = dummy.predict(X_test)"
   ]
  },
  {
   "cell_type": "code",
   "execution_count": 28,
   "metadata": {},
   "outputs": [
    {
     "name": "stdout",
     "output_type": "stream",
     "text": [
      "Test Accuracy score:  0.49545049063336305\n",
      "Test Recall score:  0.4797297297297297\n",
      "Test F1 score:  0.04781144781144781\n",
      "Test Precision score :  0.025159461374911412\n"
     ]
    }
   ],
   "source": [
    "# checking accuracy\n",
    "print('Test Accuracy score: ', accuracy_score(y_test, dummy_pred))\n",
    "# checking accuracy\n",
    "print('Test Recall score: ', recall_score(y_test, dummy_pred))\n",
    "#Checking f1\n",
    "print('Test F1 score: ', f1_score(y_test, dummy_pred))\n",
    "#Checking Percision\n",
    "print('Test Precision score : ', precision_score(y_test, dummy_pred))"
   ]
  },
  {
   "cell_type": "code",
   "execution_count": 29,
   "metadata": {},
   "outputs": [
    {
     "data": {
      "image/png": "[encoded data removed]",
      "text/plain": [
       "<Figure size 432x288 with 2 Axes>"
      ]
     },
     "metadata": {
      "needs_background": "light"
     },
     "output_type": "display_data"
    }
   ],
   "source": [
    "plot_confusion_matrix(dummy, X_test, y_test)\n",
    "plt.show()"
   ]
  },
  {
   "cell_type": "markdown",
   "metadata": {},
   "source": [
    "## Basic Logistic Regression"
   ]
  },
  {
   "cell_type": "markdown",
   "metadata": {},
   "source": [
    "### MinMax Scaler"
   ]
  },
  {
   "cell_type": "code",
   "execution_count": 30,
   "metadata": {},
   "outputs": [
    {
     "name": "stderr",
     "output_type": "stream",
     "text": [
      "/opt/anaconda3/envs/learn-env/lib/python3.6/site-packages/sklearn/utils/deprecation.py:86: FutureWarning: Function safe_indexing is deprecated; safe_indexing is deprecated in version 0.22 and will be removed in version 0.24.\n",
      "  warnings.warn(msg, category=FutureWarning)\n"
     ]
    }
   ],
   "source": [
    "X_train, X_test, y_train, y_test = train_test_split(X, y,test_size=0.25,random_state=27)\n",
    "X_train, y_train = sm.fit_sample(X_train, y_train)"
   ]
  },
  {
   "cell_type": "code",
   "execution_count": 31,
   "metadata": {},
   "outputs": [],
   "source": [
    "scaler = MinMaxScaler(feature_range = (0,1))\n",
    "scaler.fit(X_train)\n",
    "X_train = scaler.transform(X_train)\n",
    "X_test = scaler.transform(X_test)"
   ]
  },
  {
   "cell_type": "code",
   "execution_count": 32,
   "metadata": {},
   "outputs": [
    {
     "name": "stdout",
     "output_type": "stream",
     "text": [
      "Test Accuracy score:  0.9380909901873328\n",
      "Test Recall score:  1.0\n",
      "Test F1 score:  0.4603421461897356\n",
      "Test Precision score :  0.298989898989899\n"
     ]
    }
   ],
   "source": [
    "lr_clf = LogisticRegression()\n",
    "\n",
    "lr_clf.fit(X_train, y_train)\n",
    "\n",
    "y_pred_test = lr_clf.predict(X_test)\n",
    "\n",
    "# checking accuracy\n",
    "print('Test Accuracy score: ', accuracy_score(y_test, y_pred_test))\n",
    "# checking accuracy\n",
    "print('Test Recall score: ', recall_score(y_test, y_pred_test))\n",
    "#Checking f1\n",
    "print('Test F1 score: ', f1_score(y_test, y_pred_test))\n",
    "#Checking precision\n",
    "print('Test Precision score : ', precision_score(y_test, y_pred_test))"
   ]
  },
  {
   "cell_type": "code",
   "execution_count": 33,
   "metadata": {},
   "outputs": [],
   "source": [
    "param_grid = {\n",
    "    'penalty': ['l2'],\n",
    "    'C': [0.001,.009,0.01,.09,1,5,10,25],\n",
    "    'fit_intercept': [True, False],\n",
    "    'random_state' : [27],\n",
    "}"
   ]
  },
  {
   "cell_type": "code",
   "execution_count": 34,
   "metadata": {},
   "outputs": [
    {
     "name": "stdout",
     "output_type": "stream",
     "text": [
      "Fitting 5 folds for each of 16 candidates, totalling 80 fits\n"
     ]
    },
    {
     "name": "stderr",
     "output_type": "stream",
     "text": [
      "[Parallel(n_jobs=-1)]: Using backend LokyBackend with 4 concurrent workers.\n",
      "[Parallel(n_jobs=-1)]: Done  42 tasks      | elapsed:    5.8s\n"
     ]
    },
    {
     "name": "stdout",
     "output_type": "stream",
     "text": [
      "Accuracy Score : 0.9355932203389831\n",
      "Precision Score : 0.2907662082514735\n",
      "Recall Score : 1.0\n",
      "F1 Score : 0.4505327245053272\n"
     ]
    },
    {
     "name": "stderr",
     "output_type": "stream",
     "text": [
      "[Parallel(n_jobs=-1)]: Done  80 out of  80 | elapsed:   14.1s finished\n",
      "/opt/anaconda3/envs/learn-env/lib/python3.6/site-packages/sklearn/model_selection/_search.py:849: FutureWarning: The parameter 'iid' is deprecated in 0.22 and will be removed in 0.24.\n",
      "  \"removed in 0.24.\", FutureWarning\n"
     ]
    },
    {
     "data": {
      "text/plain": [
       "array([[5096,  361],\n",
       "       [   0,  148]])"
      ]
     },
     "execution_count": 34,
     "metadata": {},
     "output_type": "execute_result"
    }
   ],
   "source": [
    "#Grid Search\n",
    "\n",
    "grid_clf_acc = GridSearchCV(estimator = lr_clf , param_grid = param_grid, scoring = 'recall', \n",
    "                            n_jobs = -1, verbose = 1, iid = False, cv = 5)\n",
    "grid_clf_acc.fit(X_train, y_train)\n",
    "\n",
    "#Predict values based on new parameters\n",
    "y_pred_acc = grid_clf_acc.predict(X_test)\n",
    "\n",
    "# New Model Evaluation metrics \n",
    "print('Accuracy Score : ' + str(accuracy_score(y_test,y_pred_acc)))\n",
    "print('Precision Score : ' + str(precision_score(y_test,y_pred_acc)))\n",
    "print('Recall Score : ' + str(recall_score(y_test,y_pred_acc)))\n",
    "print('F1 Score : ' + str(f1_score(y_test,y_pred_acc)))\n",
    "\n",
    "#Logistic Regression (Grid Search) Confusion matrix\n",
    "confusion_matrix(y_test,y_pred_acc)\n",
    "\n"
   ]
  },
  {
   "cell_type": "code",
   "execution_count": 35,
   "metadata": {},
   "outputs": [],
   "source": [
    "best_parameters = grid_clf_acc.best_params_"
   ]
  },
  {
   "cell_type": "code",
   "execution_count": 36,
   "metadata": {},
   "outputs": [
    {
     "data": {
      "text/plain": [
       "{'C': 0.009, 'fit_intercept': False, 'penalty': 'l2', 'random_state': 27}"
      ]
     },
     "execution_count": 36,
     "metadata": {},
     "output_type": "execute_result"
    }
   ],
   "source": [
    "best_parameters"
   ]
  },
  {
   "cell_type": "code",
   "execution_count": 37,
   "metadata": {},
   "outputs": [
    {
     "data": {
      "image/png": "[encoded data removed]",
      "text/plain": [
       "<Figure size 432x288 with 2 Axes>"
      ]
     },
     "metadata": {
      "needs_background": "light"
     },
     "output_type": "display_data"
    }
   ],
   "source": [
    "plot_confusion_matrix(lr_clf, X_test, y_test)  # doctest: +SKIP\n",
    "plt.show()"
   ]
  },
  {
   "cell_type": "markdown",
   "metadata": {},
   "source": [
    "### StandardScaler"
   ]
  },
  {
   "cell_type": "code",
   "execution_count": 38,
   "metadata": {},
   "outputs": [
    {
     "name": "stderr",
     "output_type": "stream",
     "text": [
      "/opt/anaconda3/envs/learn-env/lib/python3.6/site-packages/sklearn/utils/deprecation.py:86: FutureWarning: Function safe_indexing is deprecated; safe_indexing is deprecated in version 0.22 and will be removed in version 0.24.\n",
      "  warnings.warn(msg, category=FutureWarning)\n"
     ]
    }
   ],
   "source": [
    "X_train, X_test, y_train, y_test = train_test_split(X, y,test_size=0.25,random_state=27)\n",
    "X_train, y_train = sm.fit_sample(X_train, y_train)"
   ]
  },
  {
   "cell_type": "code",
   "execution_count": 39,
   "metadata": {},
   "outputs": [],
   "source": [
    "scaler = StandardScaler()\n",
    "\n",
    "scaler.fit(X_train)\n",
    "X_train = scaler.transform(X_train)\n",
    "X_test = scaler.transform(X_test)"
   ]
  },
  {
   "cell_type": "code",
   "execution_count": 40,
   "metadata": {},
   "outputs": [
    {
     "name": "stdout",
     "output_type": "stream",
     "text": [
      "Test Accuracy score:  0.9384478144513827\n",
      "Test Recall score:  1.0\n",
      "Test F1 score:  0.4617784711388455\n",
      "Test Precision score :  0.3002028397565923\n"
     ]
    }
   ],
   "source": [
    "lr_clf = LogisticRegression(solver='liblinear')\n",
    "\n",
    "lr_clf.fit(X_train, y_train)\n",
    "\n",
    "y_pred_test = lr_clf.predict(X_test)\n",
    "\n",
    "# checking accuracy\n",
    "print('Test Accuracy score: ', accuracy_score(y_test, y_pred_test))\n",
    "# checking accuracy\n",
    "print('Test Recall score: ', recall_score(y_test, y_pred_test))\n",
    "#Checking f1\n",
    "print('Test F1 score: ', f1_score(y_test, y_pred_test))\n",
    "#Checking Percision\n",
    "print('Test Precision score : ', precision_score(y_test, y_pred_test))"
   ]
  },
  {
   "cell_type": "code",
   "execution_count": 41,
   "metadata": {},
   "outputs": [],
   "source": [
    "param_grid = {\n",
    "    'penalty': ['l2'],\n",
    "    'C': [0.001,.009,0.01,.09,1,5,10,25],\n",
    "    'fit_intercept': [True, False],\n",
    "    'random_state' : [27],\n",
    "}"
   ]
  },
  {
   "cell_type": "code",
   "execution_count": 42,
   "metadata": {},
   "outputs": [
    {
     "name": "stdout",
     "output_type": "stream",
     "text": [
      "Fitting 5 folds for each of 16 candidates, totalling 80 fits\n"
     ]
    },
    {
     "name": "stderr",
     "output_type": "stream",
     "text": [
      "[Parallel(n_jobs=-1)]: Using backend LokyBackend with 4 concurrent workers.\n"
     ]
    },
    {
     "name": "stdout",
     "output_type": "stream",
     "text": [
      "Accuracy Score : 0.9350579839429081\n",
      "Precision Score : 0.2890625\n",
      "Recall Score : 1.0\n",
      "F1 Score : 0.4484848484848485\n"
     ]
    },
    {
     "name": "stderr",
     "output_type": "stream",
     "text": [
      "[Parallel(n_jobs=-1)]: Done  80 out of  80 | elapsed:    6.2s finished\n",
      "/opt/anaconda3/envs/learn-env/lib/python3.6/site-packages/sklearn/model_selection/_search.py:849: FutureWarning: The parameter 'iid' is deprecated in 0.22 and will be removed in 0.24.\n",
      "  \"removed in 0.24.\", FutureWarning\n"
     ]
    },
    {
     "data": {
      "text/plain": [
       "array([[5093,  364],\n",
       "       [   0,  148]])"
      ]
     },
     "execution_count": 42,
     "metadata": {},
     "output_type": "execute_result"
    }
   ],
   "source": [
    "#Grid Search\n",
    "\n",
    "grid_clf_acc = GridSearchCV(lr_clf, param_grid = param_grid, scoring = 'recall',\n",
    "                            n_jobs = -1, verbose = 1, iid = False, cv = 5)\n",
    "grid_clf_acc.fit(X_train, y_train)\n",
    "\n",
    "#Predict values based on new parameters\n",
    "y_pred_acc = grid_clf_acc.predict(X_test)\n",
    "\n",
    "# New Model Evaluation metrics \n",
    "print('Accuracy Score : ' + str(accuracy_score(y_test,y_pred_acc)))\n",
    "print('Precision Score : ' + str(precision_score(y_test,y_pred_acc)))\n",
    "print('Recall Score : ' + str(recall_score(y_test,y_pred_acc)))\n",
    "print('F1 Score : ' + str(f1_score(y_test,y_pred_acc)))\n",
    "\n",
    "#Logistic Regression (Grid Search) Confusion matrix\n",
    "confusion_matrix(y_test,y_pred_acc)"
   ]
  },
  {
   "cell_type": "code",
   "execution_count": 43,
   "metadata": {},
   "outputs": [],
   "source": [
    "best_parameters = grid_clf_acc.best_params_"
   ]
  },
  {
   "cell_type": "code",
   "execution_count": 44,
   "metadata": {},
   "outputs": [
    {
     "data": {
      "text/plain": [
       "{'C': 0.001, 'fit_intercept': True, 'penalty': 'l2', 'random_state': 27}"
      ]
     },
     "execution_count": 44,
     "metadata": {},
     "output_type": "execute_result"
    }
   ],
   "source": [
    "best_parameters"
   ]
  },
  {
   "cell_type": "code",
   "execution_count": 45,
   "metadata": {},
   "outputs": [
    {
     "data": {
      "image/png": "[encoded data removed]",
      "text/plain": [
       "<Figure size 432x288 with 2 Axes>"
      ]
     },
     "metadata": {
      "needs_background": "light"
     },
     "output_type": "display_data"
    }
   ],
   "source": [
    "plot_confusion_matrix(lr_clf, X_test, y_test)\n",
    "plt.show()"
   ]
  },
  {
   "cell_type": "markdown",
   "metadata": {},
   "source": [
    "## KNeighbors Classifier"
   ]
  },
  {
   "cell_type": "markdown",
   "metadata": {},
   "source": [
    "### MinMax Scaler"
   ]
  },
  {
   "cell_type": "code",
   "execution_count": 46,
   "metadata": {},
   "outputs": [
    {
     "name": "stderr",
     "output_type": "stream",
     "text": [
      "/opt/anaconda3/envs/learn-env/lib/python3.6/site-packages/sklearn/utils/deprecation.py:86: FutureWarning: Function safe_indexing is deprecated; safe_indexing is deprecated in version 0.22 and will be removed in version 0.24.\n",
      "  warnings.warn(msg, category=FutureWarning)\n"
     ]
    }
   ],
   "source": [
    "X_train, X_test, y_train, y_test = train_test_split(X, y,test_size=0.25,random_state=27)\n",
    "X_train, y_train = sm.fit_sample(X_train, y_train)"
   ]
  },
  {
   "cell_type": "code",
   "execution_count": 47,
   "metadata": {},
   "outputs": [],
   "source": [
    "scaler = StandardScaler()\n",
    "scaler.fit(X_train)\n",
    "\n",
    "X_train = scaler.transform(X_train)\n",
    "X_test = scaler.transform(X_test)"
   ]
  },
  {
   "cell_type": "code",
   "execution_count": 48,
   "metadata": {},
   "outputs": [
    {
     "name": "stdout",
     "output_type": "stream",
     "text": [
      "Test Accuracy score:  0.9587867975022302\n",
      "Test Recall score:  0.7702702702702703\n",
      "Test F1 score:  0.49673202614379086\n",
      "Test Precision score :  0.3665594855305466\n"
     ]
    }
   ],
   "source": [
    "knn = KNeighborsClassifier()\n",
    "knn.fit(X_train, y_train)\n",
    "\n",
    "y_pred =knn.predict(X_test)\n",
    "\n",
    "# checking accuracy\n",
    "print('Test Accuracy score: ', accuracy_score(y_test, y_pred))\n",
    "# checking accuracy\n",
    "print('Test Recall score: ', recall_score(y_test, y_pred))\n",
    "#Checking f1\n",
    "print('Test F1 score: ', f1_score(y_test, y_pred))\n",
    "#Checking Percision\n",
    "print('Test Precision score : ', precision_score(y_test, y_pred))"
   ]
  },
  {
   "cell_type": "code",
   "execution_count": 49,
   "metadata": {},
   "outputs": [],
   "source": [
    "param_grid = {\n",
    "    'n_neighbors': [1, 3, 5, 7, 9, 11, 13, 15],\n",
    "    'weights': ['uniform', 'distance'],\n",
    "    'algorithm': ['auto', 'ball_tree', 'kd_tree', 'brute'],\n",
    "}"
   ]
  },
  {
   "cell_type": "code",
   "execution_count": 50,
   "metadata": {},
   "outputs": [
    {
     "name": "stdout",
     "output_type": "stream",
     "text": [
      "Fitting 5 folds for each of 64 candidates, totalling 320 fits\n"
     ]
    },
    {
     "name": "stderr",
     "output_type": "stream",
     "text": [
      "[Parallel(n_jobs=-1)]: Using backend LokyBackend with 4 concurrent workers.\n",
      "[Parallel(n_jobs=-1)]: Done  42 tasks      | elapsed:  3.0min\n",
      "[Parallel(n_jobs=-1)]: Done 192 tasks      | elapsed: 19.1min\n",
      "[Parallel(n_jobs=-1)]: Done 320 out of 320 | elapsed: 27.0min finished\n",
      "/opt/anaconda3/envs/learn-env/lib/python3.6/site-packages/sklearn/model_selection/_search.py:849: FutureWarning: The parameter 'iid' is deprecated in 0.22 and will be removed in 0.24.\n",
      "  \"removed in 0.24.\", FutureWarning\n"
     ]
    },
    {
     "name": "stdout",
     "output_type": "stream",
     "text": [
      "Accuracy Score : 0.9525423728813559\n",
      "Precision Score : 0.33879781420765026\n",
      "Recall Score : 0.8378378378378378\n",
      "F1 Score : 0.48249027237354086\n"
     ]
    },
    {
     "data": {
      "text/plain": [
       "array([[5215,  242],\n",
       "       [  24,  124]])"
      ]
     },
     "execution_count": 50,
     "metadata": {},
     "output_type": "execute_result"
    }
   ],
   "source": [
    "#Grid Search\n",
    "\n",
    "grid_clf_acc = GridSearchCV(knn, param_grid = param_grid, scoring = 'recall',\n",
    "                           n_jobs = -1, verbose = 1, iid = False, cv = 5)\n",
    "grid_clf_acc.fit(X_train, y_train)\n",
    "\n",
    "#Predict values based on new parameters\n",
    "y_pred_acc = grid_clf_acc.predict(X_test)\n",
    "\n",
    "# New Model Evaluation metrics \n",
    "print('Accuracy Score : ' + str(accuracy_score(y_test,y_pred_acc)))\n",
    "print('Precision Score : ' + str(precision_score(y_test,y_pred_acc)))\n",
    "print('Recall Score : ' + str(recall_score(y_test,y_pred_acc)))\n",
    "print('F1 Score : ' + str(f1_score(y_test,y_pred_acc)))\n",
    "\n",
    "#(Grid Search) Confusion matrix\n",
    "confusion_matrix(y_test,y_pred_acc)"
   ]
  },
  {
   "cell_type": "code",
   "execution_count": 51,
   "metadata": {},
   "outputs": [],
   "source": [
    "best_parameters = grid_clf_acc.best_params_"
   ]
  },
  {
   "cell_type": "code",
   "execution_count": 52,
   "metadata": {},
   "outputs": [
    {
     "data": {
      "text/plain": [
       "{'algorithm': 'auto', 'n_neighbors': 9, 'weights': 'uniform'}"
      ]
     },
     "execution_count": 52,
     "metadata": {},
     "output_type": "execute_result"
    }
   ],
   "source": [
    "best_parameters"
   ]
  },
  {
   "cell_type": "markdown",
   "metadata": {},
   "source": [
    "### Standard Scaler"
   ]
  },
  {
   "cell_type": "code",
   "execution_count": 53,
   "metadata": {},
   "outputs": [
    {
     "name": "stderr",
     "output_type": "stream",
     "text": [
      "/opt/anaconda3/envs/learn-env/lib/python3.6/site-packages/sklearn/utils/deprecation.py:86: FutureWarning: Function safe_indexing is deprecated; safe_indexing is deprecated in version 0.22 and will be removed in version 0.24.\n",
      "  warnings.warn(msg, category=FutureWarning)\n"
     ]
    }
   ],
   "source": [
    "X_train, X_test, y_train, y_test = train_test_split(X, y,test_size=0.25,random_state=27)\n",
    "X_train, y_train = sm.fit_sample(X_train, y_train)"
   ]
  },
  {
   "cell_type": "code",
   "execution_count": 54,
   "metadata": {},
   "outputs": [],
   "source": [
    "scaler = MinMaxScaler()\n",
    "scaler.fit(X_train)\n",
    "\n",
    "X_train = scaler.transform(X_train)\n",
    "X_test = scaler.transform(X_test)"
   ]
  },
  {
   "cell_type": "code",
   "execution_count": 55,
   "metadata": {},
   "outputs": [
    {
     "name": "stdout",
     "output_type": "stream",
     "text": [
      "Test Accuracy score:  0.9648528099910794\n",
      "Test Recall score:  0.7837837837837838\n",
      "Test F1 score:  0.5407925407925408\n",
      "Test Precision score :  0.4128113879003559\n"
     ]
    }
   ],
   "source": [
    "knn = KNeighborsClassifier()\n",
    "knn.fit(X_train, y_train)\n",
    "\n",
    "y_pred =knn.predict(X_test)\n",
    "\n",
    "# checking accuracy\n",
    "print('Test Accuracy score: ', accuracy_score(y_test, y_pred))\n",
    "# checking accuracy\n",
    "print('Test Recall score: ', recall_score(y_test, y_pred))\n",
    "#Checking f1\n",
    "print('Test F1 score: ', f1_score(y_test, y_pred))\n",
    "#Checking Percision\n",
    "print('Test Precision score : ', precision_score(y_test, y_pred))"
   ]
  },
  {
   "cell_type": "code",
   "execution_count": 56,
   "metadata": {},
   "outputs": [],
   "source": [
    "param_grid = {\n",
    "    'n_neighbors': [1, 3, 5, 7, 9, 11, 13, 15],\n",
    "    'weights': ['uniform', 'distance'],\n",
    "    'algorithm': ['auto', 'ball_tree', 'kd_tree', 'brute'],\n",
    "}"
   ]
  },
  {
   "cell_type": "code",
   "execution_count": 57,
   "metadata": {},
   "outputs": [
    {
     "name": "stdout",
     "output_type": "stream",
     "text": [
      "Fitting 5 folds for each of 64 candidates, totalling 320 fits\n"
     ]
    },
    {
     "name": "stderr",
     "output_type": "stream",
     "text": [
      "[Parallel(n_jobs=-1)]: Using backend LokyBackend with 4 concurrent workers.\n",
      "[Parallel(n_jobs=-1)]: Done  42 tasks      | elapsed:   44.0s\n",
      "[Parallel(n_jobs=-1)]: Done 192 tasks      | elapsed:  7.0min\n",
      "[Parallel(n_jobs=-1)]: Done 320 out of 320 | elapsed: 10.3min finished\n",
      "/opt/anaconda3/envs/learn-env/lib/python3.6/site-packages/sklearn/model_selection/_search.py:849: FutureWarning: The parameter 'iid' is deprecated in 0.22 and will be removed in 0.24.\n",
      "  \"removed in 0.24.\", FutureWarning\n"
     ]
    },
    {
     "name": "stdout",
     "output_type": "stream",
     "text": [
      "Accuracy Score : 0.959678858162355\n",
      "Precision Score : 0.378125\n",
      "Recall Score : 0.8175675675675675\n",
      "F1 Score : 0.5170940170940171\n"
     ]
    },
    {
     "data": {
      "text/plain": [
       "array([[5258,  199],\n",
       "       [  27,  121]])"
      ]
     },
     "execution_count": 57,
     "metadata": {},
     "output_type": "execute_result"
    }
   ],
   "source": [
    "#Grid Search\n",
    "\n",
    "grid_clf_acc = GridSearchCV(knn, param_grid = param_grid, scoring = 'recall',\n",
    "                           n_jobs = -1, verbose = 1, iid = False, cv = 5)\n",
    "grid_clf_acc.fit(X_train, y_train)\n",
    "\n",
    "#Predict values based on new parameters\n",
    "y_pred_acc = grid_clf_acc.predict(X_test)\n",
    "\n",
    "# New Model Evaluation metrics \n",
    "print('Accuracy Score : ' + str(accuracy_score(y_test,y_pred_acc)))\n",
    "print('Precision Score : ' + str(precision_score(y_test,y_pred_acc)))\n",
    "print('Recall Score : ' + str(recall_score(y_test,y_pred_acc)))\n",
    "print('F1 Score : ' + str(f1_score(y_test,y_pred_acc)))\n",
    "\n",
    "#(Grid Search) Confusion matrix\n",
    "confusion_matrix(y_test,y_pred_acc)"
   ]
  },
  {
   "cell_type": "code",
   "execution_count": 58,
   "metadata": {},
   "outputs": [],
   "source": [
    "best_parameters = grid_clf_acc.best_params_"
   ]
  },
  {
   "cell_type": "code",
   "execution_count": 59,
   "metadata": {},
   "outputs": [
    {
     "data": {
      "text/plain": [
       "{'algorithm': 'auto', 'n_neighbors': 11, 'weights': 'distance'}"
      ]
     },
     "execution_count": 59,
     "metadata": {},
     "output_type": "execute_result"
    }
   ],
   "source": [
    "best_parameters"
   ]
  },
  {
   "cell_type": "code",
   "execution_count": 60,
   "metadata": {},
   "outputs": [
    {
     "name": "stdout",
     "output_type": "stream",
     "text": [
      "[0.5308641975308642]\n",
      "[0.5308641975308642, 0.5396825396825397]\n",
      "[0.5308641975308642, 0.5396825396825397, 0.5604113110539846]\n",
      "[0.5308641975308642, 0.5396825396825397, 0.5604113110539846, 0.5578947368421053]\n",
      "[0.5308641975308642, 0.5396825396825397, 0.5604113110539846, 0.5578947368421053, 0.5407925407925408]\n",
      "[0.5308641975308642, 0.5396825396825397, 0.5604113110539846, 0.5578947368421053, 0.5407925407925408, 0.5510688836104513]\n",
      "[0.5308641975308642, 0.5396825396825397, 0.5604113110539846, 0.5578947368421053, 0.5407925407925408, 0.5510688836104513, 0.5053995680345573]\n",
      "[0.5308641975308642, 0.5396825396825397, 0.5604113110539846, 0.5578947368421053, 0.5407925407925408, 0.5510688836104513, 0.5053995680345573, 0.5154185022026432]\n",
      "[0.5308641975308642, 0.5396825396825397, 0.5604113110539846, 0.5578947368421053, 0.5407925407925408, 0.5510688836104513, 0.5053995680345573, 0.5154185022026432, 0.5093167701863355]\n",
      "[0.5308641975308642, 0.5396825396825397, 0.5604113110539846, 0.5578947368421053, 0.5407925407925408, 0.5510688836104513, 0.5053995680345573, 0.5154185022026432, 0.5093167701863355, 0.5189873417721519]\n",
      "[0.5308641975308642, 0.5396825396825397, 0.5604113110539846, 0.5578947368421053, 0.5407925407925408, 0.5510688836104513, 0.5053995680345573, 0.5154185022026432, 0.5093167701863355, 0.5189873417721519, 0.49411764705882344]\n"
     ]
    }
   ],
   "source": [
    "k_scores = []\n",
    "\n",
    "k_range = list(range(1, 12))\n",
    "for k in k_range:\n",
    "    knn = KNeighborsClassifier(n_neighbors=k)\n",
    "    knn.fit(X_train, y_train)\n",
    "    \n",
    "    y_pred = knn.predict(X_test)\n",
    "    \n",
    "    test_f1 = f1_score(y_test, y_pred)\n",
    "    \n",
    "    k_scores.append(test_f1)\n",
    "    print(k_scores)"
   ]
  },
  {
   "cell_type": "code",
   "execution_count": 61,
   "metadata": {},
   "outputs": [
    {
     "data": {
      "image/png": "[encoded data removed]",
      "text/plain": [
       "<Figure size 864x432 with 1 Axes>"
      ]
     },
     "metadata": {
      "needs_background": "light"
     },
     "output_type": "display_data"
    }
   ],
   "source": [
    "plt.figure(figsize=(12, 6))  \n",
    "plt.plot(k_range, k_scores, color='red', linestyle='dashed', marker='o',  \n",
    "         markerfacecolor='blue', markersize=10)\n",
    "plt.title('Accuracy score by K Value')  \n",
    "plt.xlabel('K Value')  \n",
    "plt.ylabel('Accuracy Score') \n",
    "plt.show()"
   ]
  },
  {
   "cell_type": "markdown",
   "metadata": {},
   "source": [
    "## Bagging"
   ]
  },
  {
   "cell_type": "markdown",
   "metadata": {},
   "source": [
    "### Min Man Scaler"
   ]
  },
  {
   "cell_type": "code",
   "execution_count": 25,
   "metadata": {},
   "outputs": [
    {
     "name": "stderr",
     "output_type": "stream",
     "text": [
      "/opt/anaconda3/envs/learn-env/lib/python3.6/site-packages/sklearn/utils/deprecation.py:86: FutureWarning: Function safe_indexing is deprecated; safe_indexing is deprecated in version 0.22 and will be removed in version 0.24.\n",
      "  warnings.warn(msg, category=FutureWarning)\n"
     ]
    }
   ],
   "source": [
    "X_train, X_test, y_train, y_test = train_test_split(X, y,test_size=0.25,random_state=27)\n",
    "X_train, y_train = sm.fit_sample(X_train, y_train)"
   ]
  },
  {
   "cell_type": "code",
   "execution_count": 26,
   "metadata": {},
   "outputs": [],
   "source": [
    "scaler = StandardScaler()\n",
    "scaler.fit(X_train)\n",
    "\n",
    "X_train = scaler.transform(X_train)\n",
    "X_test = scaler.transform(X_test)"
   ]
  },
  {
   "cell_type": "code",
   "execution_count": 27,
   "metadata": {},
   "outputs": [
    {
     "name": "stdout",
     "output_type": "stream",
     "text": [
      "Test Accuracy score:  0.9785905441570026\n",
      "Test Recall score:  0.5405405405405406\n",
      "Test F1 score:  0.5714285714285714\n",
      "Test Precision score :  0.6060606060606061\n"
     ]
    }
   ],
   "source": [
    "bag = BaggingClassifier(random_state=27)\n",
    "bag.fit(X_train, y_train)\n",
    "\n",
    "y_pred =bag.predict(X_test)\n",
    "\n",
    "# checking accuracy\n",
    "print('Test Accuracy score: ', accuracy_score(y_test, y_pred))\n",
    "# checking accuracy\n",
    "print('Test Recall score: ', recall_score(y_test, y_pred))\n",
    "#Checking f1\n",
    "print('Test F1 score: ', f1_score(y_test, y_pred))\n",
    "#Checking Percision\n",
    "print('Test Precision score : ', precision_score(y_test, y_pred))"
   ]
  },
  {
   "cell_type": "code",
   "execution_count": 28,
   "metadata": {},
   "outputs": [
    {
     "data": {
      "image/png": "[encoded data removed]",
      "text/plain": [
       "<Figure size 432x288 with 2 Axes>"
      ]
     },
     "metadata": {
      "needs_background": "light"
     },
     "output_type": "display_data"
    }
   ],
   "source": [
    "plot_confusion_matrix(bag, X_test, y_test)  \n",
    "plt.show()"
   ]
  },
  {
   "cell_type": "code",
   "execution_count": null,
   "metadata": {},
   "outputs": [],
   "source": [
    "plot_confusion_matrix(lr_clf, X_test, y_test)  # doctest: +SKIP\n",
    "plt.show()"
   ]
  },
  {
   "cell_type": "code",
   "execution_count": 65,
   "metadata": {},
   "outputs": [],
   "source": [
    "param_grid = {'n_estimators': (1, 3, 5, 7, 9, 11),\n",
    "              'oob_score' : (True, False),\n",
    "              'max_samples' : (50, 100, 150, 200),\n",
    "              'max_features' : (10, 15, 20, 25, 30),\n",
    "              'bootstrap_features' : (True, False)\n",
    "              }"
   ]
  },
  {
   "cell_type": "code",
   "execution_count": 66,
   "metadata": {},
   "outputs": [
    {
     "name": "stdout",
     "output_type": "stream",
     "text": [
      "Fitting 5 folds for each of 480 candidates, totalling 2400 fits\n"
     ]
    },
    {
     "name": "stderr",
     "output_type": "stream",
     "text": [
      "[Parallel(n_jobs=-1)]: Using backend LokyBackend with 4 concurrent workers.\n",
      "[Parallel(n_jobs=-1)]: Done  76 tasks      | elapsed:    4.3s\n",
      "[Parallel(n_jobs=-1)]: Done 376 tasks      | elapsed:   25.2s\n",
      "[Parallel(n_jobs=-1)]: Done 744 tasks      | elapsed:   55.9s\n",
      "[Parallel(n_jobs=-1)]: Done 1930 tasks      | elapsed:  1.7min\n",
      "[Parallel(n_jobs=-1)]: Done 2400 out of 2400 | elapsed:  1.8min finished\n",
      "/opt/anaconda3/envs/learn-env/lib/python3.6/site-packages/sklearn/model_selection/_search.py:849: FutureWarning: The parameter 'iid' is deprecated in 0.22 and will be removed in 0.24.\n",
      "  \"removed in 0.24.\", FutureWarning\n"
     ]
    },
    {
     "name": "stdout",
     "output_type": "stream",
     "text": [
      "Accuracy Score : 0.9371989295272078\n",
      "Precision Score : 0.296\n",
      "Recall Score : 1.0\n",
      "F1 Score : 0.4567901234567901\n"
     ]
    },
    {
     "data": {
      "text/plain": [
       "array([[5105,  352],\n",
       "       [   0,  148]])"
      ]
     },
     "execution_count": 66,
     "metadata": {},
     "output_type": "execute_result"
    }
   ],
   "source": [
    "#Grid Search\n",
    "\n",
    "grid_clf_acc = GridSearchCV(bag, param_grid = param_grid, scoring = 'recall',\n",
    "                           n_jobs = -1, verbose = 1, iid = False, cv = 5)\n",
    "grid_clf_acc.fit(X_train, y_train)\n",
    "\n",
    "#Predict values based on new parameters\n",
    "y_pred_acc = grid_clf_acc.predict(X_test)\n",
    "\n",
    "# New Model Evaluation metrics \n",
    "print('Accuracy Score : ' + str(accuracy_score(y_test,y_pred_acc)))\n",
    "print('Precision Score : ' + str(precision_score(y_test,y_pred_acc)))\n",
    "print('Recall Score : ' + str(recall_score(y_test,y_pred_acc)))\n",
    "print('F1 Score : ' + str(f1_score(y_test,y_pred_acc)))\n",
    "\n",
    "#(Grid Search) Confusion matrix\n",
    "confusion_matrix(y_test,y_pred_acc)"
   ]
  },
  {
   "cell_type": "code",
   "execution_count": 67,
   "metadata": {},
   "outputs": [],
   "source": [
    "best_parameters = grid_clf_acc.best_params_"
   ]
  },
  {
   "cell_type": "code",
   "execution_count": 68,
   "metadata": {},
   "outputs": [
    {
     "data": {
      "text/plain": [
       "{'bootstrap_features': False,\n",
       " 'max_features': 20,\n",
       " 'max_samples': 50,\n",
       " 'n_estimators': 11,\n",
       " 'oob_score': True}"
      ]
     },
     "execution_count": 68,
     "metadata": {},
     "output_type": "execute_result"
    }
   ],
   "source": [
    "best_parameters"
   ]
  },
  {
   "cell_type": "markdown",
   "metadata": {},
   "source": [
    "### Standard Scaler"
   ]
  },
  {
   "cell_type": "code",
   "execution_count": 69,
   "metadata": {},
   "outputs": [
    {
     "name": "stderr",
     "output_type": "stream",
     "text": [
      "/opt/anaconda3/envs/learn-env/lib/python3.6/site-packages/sklearn/utils/deprecation.py:86: FutureWarning: Function safe_indexing is deprecated; safe_indexing is deprecated in version 0.22 and will be removed in version 0.24.\n",
      "  warnings.warn(msg, category=FutureWarning)\n"
     ]
    }
   ],
   "source": [
    "X_train, X_test, y_train, y_test = train_test_split(X, y,test_size=0.25,random_state=27)\n",
    "X_train, y_train = sm.fit_sample(X_train, y_train)"
   ]
  },
  {
   "cell_type": "code",
   "execution_count": 70,
   "metadata": {},
   "outputs": [],
   "source": [
    "scaler = MinMaxScaler()\n",
    "scaler.fit(X_train)\n",
    "\n",
    "X_train = scaler.transform(X_train)\n",
    "X_test = scaler.transform(X_test)"
   ]
  },
  {
   "cell_type": "code",
   "execution_count": 71,
   "metadata": {},
   "outputs": [
    {
     "name": "stdout",
     "output_type": "stream",
     "text": [
      "Test Accuracy score:  0.9780553077609278\n",
      "Test Recall score:  0.527027027027027\n",
      "Test F1 score:  0.5591397849462365\n",
      "Test Precision score :  0.5954198473282443\n"
     ]
    }
   ],
   "source": [
    "bag = BaggingClassifier(random_state=27)\n",
    "bag.fit(X_train, y_train)\n",
    "\n",
    "y_pred =bag.predict(X_test)\n",
    "\n",
    "# checking accuracy\n",
    "print('Test Accuracy score: ', accuracy_score(y_test, y_pred))\n",
    "# checking accuracy\n",
    "print('Test Recall score: ', recall_score(y_test, y_pred))\n",
    "#Checking f1\n",
    "print('Test F1 score: ', f1_score(y_test, y_pred))\n",
    "#Checking Percision\n",
    "print('Test Precision score : ', precision_score(y_test, y_pred))"
   ]
  },
  {
   "cell_type": "code",
   "execution_count": 72,
   "metadata": {},
   "outputs": [],
   "source": [
    "param_grid = {'n_estimators': (1, 3, 5, 7, 9, 11),\n",
    "              'oob_score' : (True, False),\n",
    "              'max_samples' : (50, 100, 150, 200),\n",
    "              'max_features' : (10, 15, 20, 25, 30),\n",
    "              'bootstrap_features' : (True, False)\n",
    "              }"
   ]
  },
  {
   "cell_type": "code",
   "execution_count": 73,
   "metadata": {},
   "outputs": [
    {
     "name": "stdout",
     "output_type": "stream",
     "text": [
      "Fitting 5 folds for each of 480 candidates, totalling 2400 fits\n"
     ]
    },
    {
     "name": "stderr",
     "output_type": "stream",
     "text": [
      "[Parallel(n_jobs=-1)]: Using backend LokyBackend with 4 concurrent workers.\n",
      "[Parallel(n_jobs=-1)]: Done  42 tasks      | elapsed:    3.5s\n",
      "[Parallel(n_jobs=-1)]: Done 192 tasks      | elapsed:   15.8s\n",
      "[Parallel(n_jobs=-1)]: Done 442 tasks      | elapsed:   31.5s\n",
      "[Parallel(n_jobs=-1)]: Done 1434 tasks      | elapsed:  1.1min\n",
      "[Parallel(n_jobs=-1)]: Done 2400 out of 2400 | elapsed:  1.6min finished\n",
      "/opt/anaconda3/envs/learn-env/lib/python3.6/site-packages/sklearn/model_selection/_search.py:849: FutureWarning: The parameter 'iid' is deprecated in 0.22 and will be removed in 0.24.\n",
      "  \"removed in 0.24.\", FutureWarning\n"
     ]
    },
    {
     "name": "stdout",
     "output_type": "stream",
     "text": [
      "Accuracy Score : 0.9370205173951829\n",
      "Precision Score : 0.2954091816367265\n",
      "Recall Score : 1.0\n",
      "F1 Score : 0.45608628659476114\n"
     ]
    },
    {
     "data": {
      "text/plain": [
       "array([[5104,  353],\n",
       "       [   0,  148]])"
      ]
     },
     "execution_count": 73,
     "metadata": {},
     "output_type": "execute_result"
    }
   ],
   "source": [
    "#Grid Search\n",
    "\n",
    "grid_clf_acc = GridSearchCV(bag, param_grid = param_grid, scoring = 'recall',\n",
    "                           n_jobs = -1, verbose = 1, iid = False, cv = 5)\n",
    "grid_clf_acc.fit(X_train, y_train)\n",
    "\n",
    "#Predict values based on new parameters\n",
    "y_pred_acc = grid_clf_acc.predict(X_test)\n",
    "\n",
    "# New Model Evaluation metrics \n",
    "print('Accuracy Score : ' + str(accuracy_score(y_test,y_pred_acc)))\n",
    "print('Precision Score : ' + str(precision_score(y_test,y_pred_acc)))\n",
    "print('Recall Score : ' + str(recall_score(y_test,y_pred_acc)))\n",
    "print('F1 Score : ' + str(f1_score(y_test,y_pred_acc)))\n",
    "\n",
    "#(Grid Search) Confusion matrix\n",
    "confusion_matrix(y_test,y_pred_acc)"
   ]
  },
  {
   "cell_type": "code",
   "execution_count": 74,
   "metadata": {},
   "outputs": [],
   "source": [
    "best_parameters = grid_clf_acc.best_params_"
   ]
  },
  {
   "cell_type": "code",
   "execution_count": 75,
   "metadata": {},
   "outputs": [
    {
     "data": {
      "text/plain": [
       "{'bootstrap_features': False,\n",
       " 'max_features': 20,\n",
       " 'max_samples': 50,\n",
       " 'n_estimators': 11,\n",
       " 'oob_score': True}"
      ]
     },
     "execution_count": 75,
     "metadata": {},
     "output_type": "execute_result"
    }
   ],
   "source": [
    "best_parameters"
   ]
  },
  {
   "cell_type": "markdown",
   "metadata": {},
   "source": [
    "## XGBOOST"
   ]
  },
  {
   "cell_type": "markdown",
   "metadata": {},
   "source": [
    "### MinMax Scaler"
   ]
  },
  {
   "cell_type": "code",
   "execution_count": 76,
   "metadata": {},
   "outputs": [
    {
     "name": "stderr",
     "output_type": "stream",
     "text": [
      "/opt/anaconda3/envs/learn-env/lib/python3.6/site-packages/sklearn/utils/deprecation.py:86: FutureWarning: Function safe_indexing is deprecated; safe_indexing is deprecated in version 0.22 and will be removed in version 0.24.\n",
      "  warnings.warn(msg, category=FutureWarning)\n"
     ]
    }
   ],
   "source": [
    "X_train, X_test, y_train, y_test = train_test_split(X, y,test_size=0.25,random_state=27)\n",
    "X_train, y_train = sm.fit_sample(X_train, y_train)"
   ]
  },
  {
   "cell_type": "code",
   "execution_count": 78,
   "metadata": {},
   "outputs": [],
   "source": [
    "scaler = MinMaxScaler()\n",
    "scaler.fit(X_train)\n",
    "\n",
    "X_train = scaler.transform(X_train)\n",
    "X_test = scaler.transform(X_test)"
   ]
  },
  {
   "cell_type": "code",
   "execution_count": 79,
   "metadata": {},
   "outputs": [
    {
     "name": "stdout",
     "output_type": "stream",
     "text": [
      "Test Accuracy score:  0.9668153434433542\n",
      "Test Recall score:  0.7027027027027027\n",
      "Test F1 score:  0.5279187817258884\n",
      "Test Precision score :  0.42276422764227645\n"
     ]
    }
   ],
   "source": [
    "clf_xgb = xgb.XGBClassifier(objective = 'binary:logistic')\n",
    "clf_xgb.fit(X_train, y_train)\n",
    "\n",
    "y_pred =clf_xgb.predict(X_test)\n",
    "\n",
    "# checking accuracy\n",
    "print('Test Accuracy score: ', accuracy_score(y_test, y_pred))\n",
    "# checking accuracy\n",
    "print('Test Recall score: ', recall_score(y_test, y_pred))\n",
    "#Checking f1\n",
    "print('Test F1 score: ', f1_score(y_test, y_pred))\n",
    "#Checking Percision\n",
    "print('Test Precision score : ', precision_score(y_test, y_pred))"
   ]
  },
  {
   "cell_type": "code",
   "execution_count": 80,
   "metadata": {},
   "outputs": [],
   "source": [
    "param_dist = {'max_depth': (1, 3, 5, 7, 9),\n",
    "              'learning_rate': (0.1, .25, .5, .75),\n",
    "              'n_estimators': (50, 100., 150, 200),\n",
    "              'booster': ('gbtree', 'gblinear', 'dart'),\n",
    "              'min_child_weight':(1, 3, 5, 7, 9),\n",
    "              'random_state' : (27)}\n",
    "\n"
   ]
  },
  {
   "cell_type": "code",
   "execution_count": 81,
   "metadata": {},
   "outputs": [
    {
     "name": "stdout",
     "output_type": "stream",
     "text": [
      "Fitting 5 folds for each of 480 candidates, totalling 2400 fits\n"
     ]
    },
    {
     "name": "stderr",
     "output_type": "stream",
     "text": [
      "[Parallel(n_jobs=-1)]: Using backend LokyBackend with 4 concurrent workers.\n",
      "[Parallel(n_jobs=-1)]: Done  42 tasks      | elapsed:    6.3s\n",
      "[Parallel(n_jobs=-1)]: Done 192 tasks      | elapsed:   29.8s\n",
      "[Parallel(n_jobs=-1)]: Done 442 tasks      | elapsed:  1.1min\n",
      "[Parallel(n_jobs=-1)]: Done 792 tasks      | elapsed:  1.9min\n",
      "[Parallel(n_jobs=-1)]: Done 1242 tasks      | elapsed:  3.0min\n",
      "[Parallel(n_jobs=-1)]: Done 1792 tasks      | elapsed:  4.2min\n",
      "[Parallel(n_jobs=-1)]: Done 2400 out of 2400 | elapsed:  5.5min finished\n",
      "/opt/anaconda3/envs/learn-env/lib/python3.6/site-packages/sklearn/model_selection/_search.py:849: FutureWarning: The parameter 'iid' is deprecated in 0.22 and will be removed in 0.24.\n",
      "  \"removed in 0.24.\", FutureWarning\n"
     ]
    },
    {
     "name": "stdout",
     "output_type": "stream",
     "text": [
      "Accuracy Score : 0.9384478144513827\n",
      "Precision Score : 0.2985685071574642\n",
      "Recall Score : 0.9864864864864865\n",
      "F1 Score : 0.4583987441130297\n"
     ]
    },
    {
     "data": {
      "text/plain": [
       "array([[5114,  343],\n",
       "       [   2,  146]])"
      ]
     },
     "execution_count": 81,
     "metadata": {},
     "output_type": "execute_result"
    }
   ],
   "source": [
    "#Grid Search\n",
    "\n",
    "grid_clf_acc = GridSearchCV(clf_xgb, param_grid = param_grid, scoring = 'recall',\n",
    "                           n_jobs = -1, verbose = 1, iid = False, cv = 5)\n",
    "grid_clf_acc.fit(X_train, y_train)\n",
    "\n",
    "#Predict values based on new parameters\n",
    "y_pred_acc = grid_clf_acc.predict(X_test)\n",
    "\n",
    "# New Model Evaluation metrics \n",
    "print('Accuracy Score : ' + str(accuracy_score(y_test,y_pred_acc)))\n",
    "print('Precision Score : ' + str(precision_score(y_test,y_pred_acc)))\n",
    "print('Recall Score : ' + str(recall_score(y_test,y_pred_acc)))\n",
    "print('F1 Score : ' + str(f1_score(y_test,y_pred_acc)))\n",
    "\n",
    "#(Grid Search) Confusion matrix\n",
    "confusion_matrix(y_test,y_pred_acc)"
   ]
  },
  {
   "cell_type": "code",
   "execution_count": 82,
   "metadata": {},
   "outputs": [],
   "source": [
    "best_parameters = grid_clf_acc.best_params_"
   ]
  },
  {
   "cell_type": "code",
   "execution_count": 83,
   "metadata": {},
   "outputs": [
    {
     "data": {
      "text/plain": [
       "{'bootstrap_features': True,\n",
       " 'max_features': 10,\n",
       " 'max_samples': 50,\n",
       " 'n_estimators': 9,\n",
       " 'oob_score': True}"
      ]
     },
     "execution_count": 83,
     "metadata": {},
     "output_type": "execute_result"
    }
   ],
   "source": [
    "best_parameters"
   ]
  },
  {
   "cell_type": "markdown",
   "metadata": {},
   "source": [
    "### Standard"
   ]
  },
  {
   "cell_type": "code",
   "execution_count": 84,
   "metadata": {},
   "outputs": [
    {
     "name": "stderr",
     "output_type": "stream",
     "text": [
      "/opt/anaconda3/envs/learn-env/lib/python3.6/site-packages/sklearn/utils/deprecation.py:86: FutureWarning: Function safe_indexing is deprecated; safe_indexing is deprecated in version 0.22 and will be removed in version 0.24.\n",
      "  warnings.warn(msg, category=FutureWarning)\n"
     ]
    }
   ],
   "source": [
    "X_train, X_test, y_train, y_test = train_test_split(X, y,test_size=0.25,random_state=27)\n",
    "X_train, y_train = sm.fit_sample(X_train, y_train)"
   ]
  },
  {
   "cell_type": "code",
   "execution_count": 85,
   "metadata": {},
   "outputs": [],
   "source": [
    "clf_xgb = xgb.XGBClassifier(objective = 'binary:logistic')"
   ]
  },
  {
   "cell_type": "code",
   "execution_count": 86,
   "metadata": {},
   "outputs": [],
   "source": [
    "scaler = StandardScaler()\n",
    "scaler.fit(X_train)\n",
    "\n",
    "X_train = scaler.transform(X_train)\n",
    "X_test = scaler.transform(X_test)"
   ]
  },
  {
   "cell_type": "code",
   "execution_count": 87,
   "metadata": {},
   "outputs": [
    {
     "name": "stdout",
     "output_type": "stream",
     "text": [
      "Test Accuracy score:  0.9671721677074041\n",
      "Test Recall score:  0.7094594594594594\n",
      "Test F1 score:  0.5329949238578681\n",
      "Test Precision score :  0.4268292682926829\n"
     ]
    }
   ],
   "source": [
    "clf_xgb = xgb.XGBClassifier(objective = 'binary:logistic')\n",
    "clf_xgb.fit(X_train, y_train)\n",
    "\n",
    "y_pred =clf_xgb.predict(X_test)\n",
    "\n",
    "# checking accuracy\n",
    "print('Test Accuracy score: ', accuracy_score(y_test, y_pred))\n",
    "# checking accuracy\n",
    "print('Test Recall score: ', recall_score(y_test, y_pred))\n",
    "#Checking f1\n",
    "print('Test F1 score: ', f1_score(y_test, y_pred))\n",
    "#Checking Percision\n",
    "print('Test Precision score : ', precision_score(y_test, y_pred))"
   ]
  },
  {
   "cell_type": "code",
   "execution_count": 88,
   "metadata": {},
   "outputs": [],
   "source": [
    "param_dist = {'max_depth': (1, 3, 5, 7, 9),\n",
    "              'learning_rate': (0.1, .25, .5, .75),\n",
    "              'n_estimators': (50, 100., 150, 200),\n",
    "              'booster': ('gbtree', 'gblinear', 'dart'),\n",
    "              'min_child_weight':(1, 3, 5, 7, 9),\n",
    "              'random_state' : (27)}\n",
    "\n",
    "\n"
   ]
  },
  {
   "cell_type": "code",
   "execution_count": 89,
   "metadata": {},
   "outputs": [
    {
     "name": "stdout",
     "output_type": "stream",
     "text": [
      "Fitting 5 folds for each of 480 candidates, totalling 2400 fits\n"
     ]
    },
    {
     "name": "stderr",
     "output_type": "stream",
     "text": [
      "[Parallel(n_jobs=-1)]: Using backend LokyBackend with 4 concurrent workers.\n",
      "[Parallel(n_jobs=-1)]: Done  42 tasks      | elapsed:    5.2s\n",
      "[Parallel(n_jobs=-1)]: Done 192 tasks      | elapsed:   25.6s\n",
      "[Parallel(n_jobs=-1)]: Done 442 tasks      | elapsed:  1.1min\n",
      "[Parallel(n_jobs=-1)]: Done 792 tasks      | elapsed:  2.0min\n",
      "[Parallel(n_jobs=-1)]: Done 1242 tasks      | elapsed:  3.1min\n",
      "[Parallel(n_jobs=-1)]: Done 1792 tasks      | elapsed:  4.3min\n",
      "[Parallel(n_jobs=-1)]: Done 2400 out of 2400 | elapsed:  5.6min finished\n",
      "/opt/anaconda3/envs/learn-env/lib/python3.6/site-packages/sklearn/model_selection/_search.py:849: FutureWarning: The parameter 'iid' is deprecated in 0.22 and will be removed in 0.24.\n",
      "  \"removed in 0.24.\", FutureWarning\n"
     ]
    },
    {
     "name": "stdout",
     "output_type": "stream",
     "text": [
      "Accuracy Score : 0.9384478144513827\n",
      "Precision Score : 0.2985685071574642\n",
      "Recall Score : 0.9864864864864865\n",
      "F1 Score : 0.4583987441130297\n"
     ]
    },
    {
     "data": {
      "text/plain": [
       "array([[5114,  343],\n",
       "       [   2,  146]])"
      ]
     },
     "execution_count": 89,
     "metadata": {},
     "output_type": "execute_result"
    }
   ],
   "source": [
    "#Grid Search\n",
    "\n",
    "grid_clf_acc = GridSearchCV(clf_xgb, param_grid = param_grid, scoring = 'recall',\n",
    "                           n_jobs = -1, verbose = 1, iid = False, cv = 5)\n",
    "grid_clf_acc.fit(X_train, y_train)\n",
    "\n",
    "#Predict values based on new parameters\n",
    "y_pred_acc = grid_clf_acc.predict(X_test)\n",
    "\n",
    "# New Model Evaluation metrics \n",
    "print('Accuracy Score : ' + str(accuracy_score(y_test,y_pred_acc)))\n",
    "print('Precision Score : ' + str(precision_score(y_test,y_pred_acc)))\n",
    "print('Recall Score : ' + str(recall_score(y_test,y_pred_acc)))\n",
    "print('F1 Score : ' + str(f1_score(y_test,y_pred_acc)))\n",
    "\n",
    "#(Grid Search) Confusion matrix\n",
    "confusion_matrix(y_test,y_pred_acc)"
   ]
  },
  {
   "cell_type": "code",
   "execution_count": 90,
   "metadata": {},
   "outputs": [],
   "source": [
    "best_parameters = grid_clf_acc.best_params_"
   ]
  },
  {
   "cell_type": "code",
   "execution_count": 91,
   "metadata": {},
   "outputs": [
    {
     "data": {
      "text/plain": [
       "{'bootstrap_features': True,\n",
       " 'max_features': 10,\n",
       " 'max_samples': 50,\n",
       " 'n_estimators': 9,\n",
       " 'oob_score': True}"
      ]
     },
     "execution_count": 91,
     "metadata": {},
     "output_type": "execute_result"
    }
   ],
   "source": [
    "best_parameters"
   ]
  },
  {
   "cell_type": "markdown",
   "metadata": {},
   "source": [
    "## Random Forrest"
   ]
  },
  {
   "cell_type": "markdown",
   "metadata": {},
   "source": [
    "### MinMax Scaler"
   ]
  },
  {
   "cell_type": "code",
   "execution_count": 23,
   "metadata": {},
   "outputs": [
    {
     "name": "stderr",
     "output_type": "stream",
     "text": [
      "/opt/anaconda3/envs/learn-env/lib/python3.6/site-packages/sklearn/utils/deprecation.py:86: FutureWarning: Function safe_indexing is deprecated; safe_indexing is deprecated in version 0.22 and will be removed in version 0.24.\n",
      "  warnings.warn(msg, category=FutureWarning)\n"
     ]
    }
   ],
   "source": [
    "X_train, X_test, y_train, y_test = train_test_split(X, y,test_size=0.25,random_state=27)\n",
    "X_train, y_train = sm.fit_sample(X_train, y_train)"
   ]
  },
  {
   "cell_type": "code",
   "execution_count": 24,
   "metadata": {},
   "outputs": [],
   "source": [
    "scaler = MinMaxScaler()\n",
    "scaler.fit(X_train)\n",
    "\n",
    "X_train = scaler.transform(X_train)\n",
    "X_test = scaler.transform(X_test)"
   ]
  },
  {
   "cell_type": "code",
   "execution_count": 26,
   "metadata": {},
   "outputs": [
    {
     "name": "stdout",
     "output_type": "stream",
     "text": [
      "Test Accuracy score:  0.9782337198929527\n",
      "Test Recall score:  0.5135135135135135\n",
      "Test F1 score:  0.5547445255474451\n",
      "Test Precision score :  0.6031746031746031\n"
     ]
    }
   ],
   "source": [
    "clf_cv = RandomForestClassifier(random_state=27)\n",
    "clf_cv.fit(X_train, y_train)\n",
    "\n",
    "\n",
    "y_pred = clf_cv.predict(X_test)\n",
    "\n",
    "# checking accuracy\n",
    "print('Test Accuracy score: ', accuracy_score(y_test, y_pred))\n",
    "# checking accuracy\n",
    "print('Test Recall score: ', recall_score(y_test, y_pred))\n",
    "#Checking f1\n",
    "print('Test F1 score: ', f1_score(y_test, y_pred))\n",
    "#Checking Percision\n",
    "print('Test Precision score : ', precision_score(y_test, y_pred))"
   ]
  },
  {
   "cell_type": "code",
   "execution_count": 32,
   "metadata": {},
   "outputs": [],
   "source": [
    "param_grid = {'n_estimators': (100, 150, 200, 250),\n",
    "              'criterion': ('gini', 'entropy'),\n",
    "              'min_samples_split': (2, 4, 6, 8),\n",
    "              'max_features': ('auto', 'sqrt', 'log2'),\n",
    "             'bootstrap' : (True, False)}"
   ]
  },
  {
   "cell_type": "code",
   "execution_count": 33,
   "metadata": {},
   "outputs": [
    {
     "name": "stdout",
     "output_type": "stream",
     "text": [
      "Fitting 5 folds for each of 192 candidates, totalling 960 fits\n"
     ]
    },
    {
     "name": "stderr",
     "output_type": "stream",
     "text": [
      "[Parallel(n_jobs=-1)]: Using backend LokyBackend with 4 concurrent workers.\n",
      "[Parallel(n_jobs=-1)]: Done  42 tasks      | elapsed:  2.0min\n",
      "[Parallel(n_jobs=-1)]: Done 192 tasks      | elapsed:  7.5min\n",
      "[Parallel(n_jobs=-1)]: Done 442 tasks      | elapsed: 17.1min\n",
      "[Parallel(n_jobs=-1)]: Done 792 tasks      | elapsed: 33.9min\n",
      "[Parallel(n_jobs=-1)]: Done 960 out of 960 | elapsed: 42.7min finished\n",
      "/opt/anaconda3/envs/learn-env/lib/python3.6/site-packages/sklearn/model_selection/_search.py:849: FutureWarning: The parameter 'iid' is deprecated in 0.22 and will be removed in 0.24.\n",
      "  \"removed in 0.24.\", FutureWarning\n"
     ]
    },
    {
     "name": "stdout",
     "output_type": "stream",
     "text": [
      "Accuracy Score : 0.9789473684210527\n",
      "Precision Score : 0.6209677419354839\n",
      "Recall Score : 0.5202702702702703\n",
      "F1 Score : 0.5661764705882353\n"
     ]
    },
    {
     "data": {
      "text/plain": [
       "array([[5410,   47],\n",
       "       [  71,   77]])"
      ]
     },
     "execution_count": 33,
     "metadata": {},
     "output_type": "execute_result"
    }
   ],
   "source": [
    "#Grid Search\n",
    "\n",
    "grid_clf_acc = GridSearchCV(clf_cv, param_grid = param_grid, scoring = 'recall',\n",
    "                           n_jobs = -1, verbose = 1, iid = False, cv = 5)\n",
    "grid_clf_acc.fit(X_train, y_train)\n",
    "\n",
    "#Predict values based on new parameters\n",
    "y_pred_acc = grid_clf_acc.predict(X_test)\n",
    "\n",
    "# New Model Evaluation metrics \n",
    "print('Accuracy Score : ' + str(accuracy_score(y_test,y_pred_acc)))\n",
    "print('Precision Score : ' + str(precision_score(y_test,y_pred_acc)))\n",
    "print('Recall Score : ' + str(recall_score(y_test,y_pred_acc)))\n",
    "print('F1 Score : ' + str(f1_score(y_test,y_pred_acc)))\n",
    "\n",
    "#(Grid Search) Confusion matrix\n",
    "confusion_matrix(y_test,y_pred_acc)"
   ]
  },
  {
   "cell_type": "code",
   "execution_count": 34,
   "metadata": {},
   "outputs": [],
   "source": [
    "best_parameters = grid_clf_acc.best_params_"
   ]
  },
  {
   "cell_type": "code",
   "execution_count": 35,
   "metadata": {},
   "outputs": [
    {
     "data": {
      "text/plain": [
       "{'bootstrap': True,\n",
       " 'criterion': 'entropy',\n",
       " 'max_features': 'auto',\n",
       " 'min_samples_split': 2,\n",
       " 'n_estimators': 200}"
      ]
     },
     "execution_count": 35,
     "metadata": {},
     "output_type": "execute_result"
    }
   ],
   "source": [
    "best_parameters"
   ]
  },
  {
   "cell_type": "markdown",
   "metadata": {},
   "source": [
    "### Standard Scaler"
   ]
  },
  {
   "cell_type": "code",
   "execution_count": 36,
   "metadata": {},
   "outputs": [
    {
     "name": "stderr",
     "output_type": "stream",
     "text": [
      "/opt/anaconda3/envs/learn-env/lib/python3.6/site-packages/sklearn/utils/deprecation.py:86: FutureWarning: Function safe_indexing is deprecated; safe_indexing is deprecated in version 0.22 and will be removed in version 0.24.\n",
      "  warnings.warn(msg, category=FutureWarning)\n"
     ]
    }
   ],
   "source": [
    "X_train, X_test, y_train, y_test = train_test_split(X, y,test_size=0.25,random_state=27)\n",
    "X_train, y_train = sm.fit_sample(X_train, y_train)"
   ]
  },
  {
   "cell_type": "code",
   "execution_count": 37,
   "metadata": {},
   "outputs": [],
   "source": [
    "scaler = StandardScaler()\n",
    "scaler.fit(X_train)\n",
    "\n",
    "X_train = scaler.transform(X_train)\n",
    "X_test = scaler.transform(X_test)"
   ]
  },
  {
   "cell_type": "code",
   "execution_count": 38,
   "metadata": {},
   "outputs": [
    {
     "name": "stdout",
     "output_type": "stream",
     "text": [
      "Test Accuracy score:  0.9778768956289028\n",
      "Test Recall score:  0.5\n",
      "Test F1 score:  0.5441176470588236\n",
      "Test Precision score :  0.5967741935483871\n"
     ]
    }
   ],
   "source": [
    "clf_cv = RandomForestClassifier(random_state=27)\n",
    "clf_cv.fit(X_train, y_train)\n",
    "\n",
    "\n",
    "y_pred = clf_cv.predict(X_test)\n",
    "\n",
    "# checking accuracy\n",
    "print('Test Accuracy score: ', accuracy_score(y_test, y_pred))\n",
    "# checking accuracy\n",
    "print('Test Recall score: ', recall_score(y_test, y_pred))\n",
    "#Checking f1\n",
    "print('Test F1 score: ', f1_score(y_test, y_pred))\n",
    "#Checking Percision\n",
    "print('Test Precision score : ', precision_score(y_test, y_pred))"
   ]
  },
  {
   "cell_type": "code",
   "execution_count": 39,
   "metadata": {},
   "outputs": [],
   "source": [
    "param_grid = {'n_estimators': (100, 150, 200, 250),\n",
    "              'criterion': ('gini', 'entropy'),\n",
    "              'min_samples_split': (2, 4, 6, 8),\n",
    "              'max_features': ('auto', 'sqrt', 'log2'),\n",
    "             'bootstrap' : (True, False)}"
   ]
  },
  {
   "cell_type": "code",
   "execution_count": 40,
   "metadata": {},
   "outputs": [
    {
     "name": "stdout",
     "output_type": "stream",
     "text": [
      "Fitting 5 folds for each of 192 candidates, totalling 960 fits\n"
     ]
    },
    {
     "name": "stderr",
     "output_type": "stream",
     "text": [
      "[Parallel(n_jobs=-1)]: Using backend LokyBackend with 4 concurrent workers.\n",
      "[Parallel(n_jobs=-1)]: Done  42 tasks      | elapsed:  1.7min\n",
      "[Parallel(n_jobs=-1)]: Done 192 tasks      | elapsed:  7.1min\n",
      "[Parallel(n_jobs=-1)]: Done 442 tasks      | elapsed: 18.8min\n",
      "[Parallel(n_jobs=-1)]: Done 792 tasks      | elapsed: 37.4min\n",
      "[Parallel(n_jobs=-1)]: Done 960 out of 960 | elapsed: 46.6min finished\n",
      "/opt/anaconda3/envs/learn-env/lib/python3.6/site-packages/sklearn/model_selection/_search.py:849: FutureWarning: The parameter 'iid' is deprecated in 0.22 and will be removed in 0.24.\n",
      "  \"removed in 0.24.\", FutureWarning\n"
     ]
    },
    {
     "name": "stdout",
     "output_type": "stream",
     "text": [
      "Accuracy Score : 0.9780553077609278\n",
      "Precision Score : 0.5968992248062015\n",
      "Recall Score : 0.5202702702702703\n",
      "F1 Score : 0.5559566787003609\n"
     ]
    },
    {
     "data": {
      "text/plain": [
       "array([[5405,   52],\n",
       "       [  71,   77]])"
      ]
     },
     "execution_count": 40,
     "metadata": {},
     "output_type": "execute_result"
    }
   ],
   "source": [
    "#Grid Search\n",
    "\n",
    "grid_clf_acc = GridSearchCV(clf_cv, param_grid = param_grid, scoring = 'recall',\n",
    "                           n_jobs = -1, verbose = 1, iid = False, cv = 5)\n",
    "grid_clf_acc.fit(X_train, y_train)\n",
    "\n",
    "#Predict values based on new parameters\n",
    "y_pred_acc = grid_clf_acc.predict(X_test)\n",
    "\n",
    "# New Model Evaluation metrics \n",
    "print('Accuracy Score : ' + str(accuracy_score(y_test,y_pred_acc)))\n",
    "print('Precision Score : ' + str(precision_score(y_test,y_pred_acc)))\n",
    "print('Recall Score : ' + str(recall_score(y_test,y_pred_acc)))\n",
    "print('F1 Score : ' + str(f1_score(y_test,y_pred_acc)))\n",
    "\n",
    "#(Grid Search) Confusion matrix\n",
    "confusion_matrix(y_test,y_pred_acc)"
   ]
  },
  {
   "cell_type": "code",
   "execution_count": 41,
   "metadata": {},
   "outputs": [],
   "source": [
    "best_parameters = grid_clf_acc.best_params_"
   ]
  },
  {
   "cell_type": "code",
   "execution_count": 42,
   "metadata": {},
   "outputs": [
    {
     "data": {
      "text/plain": [
       "{'bootstrap': True,\n",
       " 'criterion': 'entropy',\n",
       " 'max_features': 'auto',\n",
       " 'min_samples_split': 2,\n",
       " 'n_estimators': 150}"
      ]
     },
     "execution_count": 42,
     "metadata": {},
     "output_type": "execute_result"
    }
   ],
   "source": [
    "best_parameters"
   ]
  },
  {
   "cell_type": "code",
   "execution_count": null,
   "metadata": {},
   "outputs": [],
   "source": []
  }
 ],
 "metadata": {
  "kernelspec": {
   "display_name": "Python 3",
   "language": "python",
   "name": "python3"
  },
  "language_info": {
   "codemirror_mode": {
    "name": "ipython",
    "version": 3
   },
   "file_extension": ".py",
   "mimetype": "text/x-python",
   "name": "python",
   "nbconvert_exporter": "python",
   "pygments_lexer": "ipython3",
   "version": "3.6.9"
  },
  "toc": {
   "base_numbering": 1,
   "nav_menu": {},
   "number_sections": true,
   "sideBar": true,
   "skip_h1_title": false,
   "title_cell": "Table of Contents",
   "title_sidebar": "Contents",
   "toc_cell": true,
   "toc_position": {
    "height": "calc(100% - 180px)",
    "left": "10px",
    "top": "150px",
    "width": "165px"
   },
   "toc_section_display": true,
   "toc_window_display": true
  }
 },
 "nbformat": 4,
 "nbformat_minor": 2
}
